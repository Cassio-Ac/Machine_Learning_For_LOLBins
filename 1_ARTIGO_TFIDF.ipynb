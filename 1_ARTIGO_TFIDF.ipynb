{
 "cells": [
  {
   "cell_type": "markdown",
   "metadata": {},
   "source": [
    "# Melhoria no tratamento de dados"
   ]
  },
  {
   "cell_type": "code",
   "execution_count": 99,
   "metadata": {
    "ExecuteTime": {
     "end_time": "2023-12-26T13:27:30.037110Z",
     "start_time": "2023-12-26T13:27:29.981876Z"
    }
   },
   "outputs": [
    {
     "data": {
      "text/plain": "'\\n!pip uninstall -y scikit-learn\\n!pip install scikit-learn==1.2.2\\n'"
     },
     "execution_count": 99,
     "metadata": {},
     "output_type": "execute_result"
    }
   ],
   "source": [
    "'''\n",
    "!pip uninstall -y scikit-learn\n",
    "!pip install scikit-learn==1.2.2\n",
    "'''"
   ]
  },
  {
   "cell_type": "code",
   "execution_count": 100,
   "metadata": {
    "ExecuteTime": {
     "end_time": "2023-12-26T13:27:30.059518Z",
     "start_time": "2023-12-26T13:27:29.985014Z"
    }
   },
   "outputs": [],
   "source": [
    "import re\n",
    "from textacy.preprocessing.replace import emails, urls\n",
    "from textacy.preprocessing.normalize import quotation_marks\n",
    "from imblearn.under_sampling import RandomUnderSampler, NearMiss, OneSidedSelection\n",
    "from imblearn.over_sampling import RandomOverSampler, SMOTE\n",
    "import numpy as np\n",
    "from sklearn.metrics import matthews_corrcoef, make_scorer, f1_score, accuracy_score\n",
    "from sklearn.model_selection import cross_val_score, cross_validate\n",
    "import os\n",
    "import joblib\n",
    "from pprint import pprint\n",
    "from sklearn.model_selection import train_test_split\n",
    "\n",
    "\n",
    "# Importação dos algoritmos de ML \n",
    "\n",
    "from sklearn.tree import DecisionTreeClassifier\n",
    "from sklearn.ensemble import RandomForestClassifier\n",
    "from sklearn.neighbors import KNeighborsClassifier\n",
    "from sklearn.linear_model import LogisticRegression\n",
    "from sklearn.svm import SVC\n",
    "from sklearn.neural_network import MLPClassifier"
   ]
  },
  {
   "cell_type": "code",
   "execution_count": 101,
   "metadata": {
    "ExecuteTime": {
     "end_time": "2023-12-26T13:27:30.068371Z",
     "start_time": "2023-12-26T13:27:29.989039Z"
    }
   },
   "outputs": [],
   "source": [
    "def replace_quoted_string(text):\n",
    "    \"\"\"\n",
    "    Substitui tudo que está entre aspas por _STRING_\n",
    "    \"\"\"\n",
    "    return re.sub(r\"\\\"(.+?)\\\"|\\'(.+?)\\'\", \"_STRING_\", text)\n",
    "\n",
    "def replace_file_path(text):\n",
    "    \"\"\"Replace file name or directory name with _PATH_\n",
    "    \"\"\"\n",
    "    #return re.sub(r\"(~)*(/[^/ ]*)+\", \"_PATH_\", text) # ((?:[^/]*/)*)(.*)\n",
    "    return re.sub(r\"((?<= )[^ ]*/)([^/ ]*)\", r\"_PATH_/\\2\", text) # Modificado para substituir apenas o diretório não o arquivo final\n",
    "\n",
    "def replace_env_variables(text):\n",
    "    \"\"\"Replace $String with $_ENV and String= with _ENV_=.\n",
    "    \"\"\"\n",
    "    text = re.sub(r\"\\$([A-Za-z_][A-Za-z0-9_]*)\", r\"$_ENV\", text)\n",
    "    text = re.sub(r\"([A-Za-z_][A-Za-z0-9_]*)=\", r\"_ENV_=\", text)\n",
    "    return text\n",
    "\n",
    "def replace_ip_address(text):\n",
    "    \"\"\"Replace IPv4 with _IP_\n",
    "    \"\"\"\n",
    "    return re.sub(\"[0-9]+(?:\\.[0-9]+){3}\", \"_IP_\", text)\n",
    "\n",
    "def refine_pipe(text):\n",
    "    \"\"\"Make clear seperation between different commands in pipe.\n",
    "    E.g.: cmd1|cmd2 -> cmd1 | cmd2\n",
    "    \"\"\"\n",
    "    return text.replace(\"|\", \" | \")\n",
    "\n",
    "def normalize(line):\n",
    "   \n",
    "    # convert to lowercase\n",
    "    line = line.lower()\n",
    "    \n",
    "    # Replace $String with $_ENV and String= with _ENV_=\n",
    "    line = replace_env_variables(line)\n",
    "\n",
    "    # normalize quoted mark\n",
    "    line = quotation_marks(line) #Função do TEXTACY\n",
    "\n",
    "    # refine pipe operator\n",
    "    line = refine_pipe(line)\n",
    "\n",
    "    # replace quoted text by _STRING_\n",
    "    line = replace_quoted_string(line)\n",
    "\n",
    "    # replace IP adress by '_IP_' token\n",
    "    line = replace_ip_address(line)\n",
    "\n",
    "    # replace file path by '_PATH_' token\n",
    "    line = replace_file_path(line)\n",
    "\n",
    "    # replace email by '_EMAIL_' token\n",
    "    line = emails(line, \"_EMAIL_\") #Função do TEXTACY\n",
    "\n",
    "    # replace URL by '_URL_' token\n",
    "    line = urls(line, \"_URL_\") #Função do TEXTACY\n",
    "    \n",
    "    return line\n"
   ]
  },
  {
   "cell_type": "markdown",
   "metadata": {},
   "source": [
    "# Leitura dos arquivos Z"
   ]
  },
  {
   "cell_type": "code",
   "execution_count": 102,
   "metadata": {
    "ExecuteTime": {
     "end_time": "2023-12-26T13:27:30.149388Z",
     "start_time": "2023-12-26T13:27:29.991278Z"
    }
   },
   "outputs": [
    {
     "name": "stdout",
     "output_type": "stream",
     "text": [
      "660\n",
      "1457\n"
     ]
    }
   ],
   "source": [
    "benign_logs = joblib.load(f\"./art_benign.z\")\n",
    "GTFOBins = joblib.load(f\"./art_gtfo.z\")\n",
    "\n",
    "benign_labels = [0] * len(benign_logs)\n",
    "GTFOBins_labels = [1] * len(GTFOBins)\n",
    "\n",
    "print(len(benign_logs))\n",
    "print(len(GTFOBins))"
   ]
  },
  {
   "cell_type": "code",
   "execution_count": 103,
   "metadata": {
    "ExecuteTime": {
     "end_time": "2023-12-26T13:27:30.149551Z",
     "start_time": "2023-12-26T13:27:30.130113Z"
    }
   },
   "outputs": [
    {
     "data": {
      "text/plain": "23"
     },
     "execution_count": 103,
     "metadata": {},
     "output_type": "execute_result"
    }
   ],
   "source": [
    "len(benign_logs[0])"
   ]
  },
  {
   "cell_type": "markdown",
   "metadata": {},
   "source": [
    "# Criação da Janela de 03 Comandos"
   ]
  },
  {
   "cell_type": "code",
   "execution_count": 104,
   "metadata": {
    "ExecuteTime": {
     "end_time": "2023-12-26T13:27:30.149594Z",
     "start_time": "2023-12-26T13:27:30.132342Z"
    }
   },
   "outputs": [],
   "source": [
    "def create_n_command_by_sliding_window(session_cmds, labels, window_size=3):\n",
    "    cmds_flat = []\n",
    "    labels_flat = []\n",
    "\n",
    "    for sess_idx, cmds in enumerate(session_cmds):\n",
    "        for i in range(len(cmds) + 1):\n",
    "            start_idx = max(0, i - window_size)\n",
    "            if start_idx == i:\n",
    "                continue\n",
    "            cmds_flat.append(\" \".join(cmds[start_idx:i]))\n",
    "            labels_flat.append(labels[sess_idx])\n",
    "\n",
    "    return cmds_flat, labels_flat"
   ]
  },
  {
   "cell_type": "code",
   "execution_count": 105,
   "metadata": {
    "ExecuteTime": {
     "end_time": "2023-12-26T13:27:30.212855Z",
     "start_time": "2023-12-26T13:27:30.135637Z"
    }
   },
   "outputs": [
    {
     "name": "stdout",
     "output_type": "stream",
     "text": [
      "N-commands 213859 213859\n"
     ]
    }
   ],
   "source": [
    "WINDOW_SIZE = 3\n",
    "\n",
    "cmds_flat, labels_flat = create_n_command_by_sliding_window(\n",
    "    session_cmds=benign_logs+GTFOBins, labels=benign_labels+GTFOBins_labels, window_size=WINDOW_SIZE\n",
    ")\n",
    "\n",
    "print(\"N-commands\", len(cmds_flat), len(labels_flat))"
   ]
  },
  {
   "cell_type": "code",
   "execution_count": 106,
   "metadata": {
    "ExecuteTime": {
     "end_time": "2023-12-26T13:27:30.213064Z",
     "start_time": "2023-12-26T13:27:30.180290Z"
    }
   },
   "outputs": [
    {
     "name": "stdout",
     "output_type": "stream",
     "text": [
      "['git pull git add . git commit -m _STRING_',\n",
      " 'git add . git commit -m _STRING_ git push',\n",
      " 'git commit -m _STRING_ git push git checkout']\n"
     ]
    }
   ],
   "source": [
    "pprint(cmds_flat[1000:1003])"
   ]
  },
  {
   "cell_type": "code",
   "execution_count": 107,
   "metadata": {
    "ExecuteTime": {
     "end_time": "2023-12-26T13:27:30.224372Z",
     "start_time": "2023-12-26T13:27:30.200508Z"
    }
   },
   "outputs": [
    {
     "name": "stdout",
     "output_type": "stream",
     "text": [
      "157045\n"
     ]
    }
   ],
   "source": [
    "# try to filter the unique n-commands\n",
    "unique_indices = []\n",
    "cmd_set = set()\n",
    "\n",
    "for i, cmd in enumerate(cmds_flat):\n",
    "    if cmd not in cmd_set:\n",
    "        cmd_set.add(cmd)\n",
    "        unique_indices.append(i)\n",
    "\n",
    "print(len(cmd_set))"
   ]
  },
  {
   "cell_type": "code",
   "execution_count": 108,
   "metadata": {
    "ExecuteTime": {
     "end_time": "2023-12-26T13:27:30.262107Z",
     "start_time": "2023-12-26T13:27:30.225876Z"
    }
   },
   "outputs": [
    {
     "name": "stdout",
     "output_type": "stream",
     "text": [
      "157045 157045\n"
     ]
    }
   ],
   "source": [
    "X_unique = [cmds_flat[i] for i in unique_indices]\n",
    "y_unique = [labels_flat[i] for i in unique_indices]\n",
    "print(len(X_unique), len(y_unique))"
   ]
  },
  {
   "cell_type": "markdown",
   "metadata": {},
   "source": [
    "# Classificção de 3-Comandos com TF-IDF"
   ]
  },
  {
   "cell_type": "code",
   "execution_count": 109,
   "metadata": {
    "ExecuteTime": {
     "end_time": "2023-12-26T13:27:30.262921Z",
     "start_time": "2023-12-26T13:27:30.230788Z"
    }
   },
   "outputs": [
    {
     "name": "stdout",
     "output_type": "stream",
     "text": [
      "213859 213859\n"
     ]
    }
   ],
   "source": [
    "X, y = cmds_flat, labels_flat\n",
    "print(len(X), len(y))"
   ]
  },
  {
   "cell_type": "code",
   "execution_count": 110,
   "metadata": {
    "ExecuteTime": {
     "end_time": "2023-12-26T13:27:32.210918Z",
     "start_time": "2023-12-26T13:27:30.283202Z"
    }
   },
   "outputs": [
    {
     "data": {
      "text/plain": "CountVectorizer(max_features=128, ngram_range=(1, 3))",
      "text/html": "<style>#sk-container-id-5 {color: black;background-color: white;}#sk-container-id-5 pre{padding: 0;}#sk-container-id-5 div.sk-toggleable {background-color: white;}#sk-container-id-5 label.sk-toggleable__label {cursor: pointer;display: block;width: 100%;margin-bottom: 0;padding: 0.3em;box-sizing: border-box;text-align: center;}#sk-container-id-5 label.sk-toggleable__label-arrow:before {content: \"▸\";float: left;margin-right: 0.25em;color: #696969;}#sk-container-id-5 label.sk-toggleable__label-arrow:hover:before {color: black;}#sk-container-id-5 div.sk-estimator:hover label.sk-toggleable__label-arrow:before {color: black;}#sk-container-id-5 div.sk-toggleable__content {max-height: 0;max-width: 0;overflow: hidden;text-align: left;background-color: #f0f8ff;}#sk-container-id-5 div.sk-toggleable__content pre {margin: 0.2em;color: black;border-radius: 0.25em;background-color: #f0f8ff;}#sk-container-id-5 input.sk-toggleable__control:checked~div.sk-toggleable__content {max-height: 200px;max-width: 100%;overflow: auto;}#sk-container-id-5 input.sk-toggleable__control:checked~label.sk-toggleable__label-arrow:before {content: \"▾\";}#sk-container-id-5 div.sk-estimator input.sk-toggleable__control:checked~label.sk-toggleable__label {background-color: #d4ebff;}#sk-container-id-5 div.sk-label input.sk-toggleable__control:checked~label.sk-toggleable__label {background-color: #d4ebff;}#sk-container-id-5 input.sk-hidden--visually {border: 0;clip: rect(1px 1px 1px 1px);clip: rect(1px, 1px, 1px, 1px);height: 1px;margin: -1px;overflow: hidden;padding: 0;position: absolute;width: 1px;}#sk-container-id-5 div.sk-estimator {font-family: monospace;background-color: #f0f8ff;border: 1px dotted black;border-radius: 0.25em;box-sizing: border-box;margin-bottom: 0.5em;}#sk-container-id-5 div.sk-estimator:hover {background-color: #d4ebff;}#sk-container-id-5 div.sk-parallel-item::after {content: \"\";width: 100%;border-bottom: 1px solid gray;flex-grow: 1;}#sk-container-id-5 div.sk-label:hover label.sk-toggleable__label {background-color: #d4ebff;}#sk-container-id-5 div.sk-serial::before {content: \"\";position: absolute;border-left: 1px solid gray;box-sizing: border-box;top: 0;bottom: 0;left: 50%;z-index: 0;}#sk-container-id-5 div.sk-serial {display: flex;flex-direction: column;align-items: center;background-color: white;padding-right: 0.2em;padding-left: 0.2em;position: relative;}#sk-container-id-5 div.sk-item {position: relative;z-index: 1;}#sk-container-id-5 div.sk-parallel {display: flex;align-items: stretch;justify-content: center;background-color: white;position: relative;}#sk-container-id-5 div.sk-item::before, #sk-container-id-5 div.sk-parallel-item::before {content: \"\";position: absolute;border-left: 1px solid gray;box-sizing: border-box;top: 0;bottom: 0;left: 50%;z-index: -1;}#sk-container-id-5 div.sk-parallel-item {display: flex;flex-direction: column;z-index: 1;position: relative;background-color: white;}#sk-container-id-5 div.sk-parallel-item:first-child::after {align-self: flex-end;width: 50%;}#sk-container-id-5 div.sk-parallel-item:last-child::after {align-self: flex-start;width: 50%;}#sk-container-id-5 div.sk-parallel-item:only-child::after {width: 0;}#sk-container-id-5 div.sk-dashed-wrapped {border: 1px dashed gray;margin: 0 0.4em 0.5em 0.4em;box-sizing: border-box;padding-bottom: 0.4em;background-color: white;}#sk-container-id-5 div.sk-label label {font-family: monospace;font-weight: bold;display: inline-block;line-height: 1.2em;}#sk-container-id-5 div.sk-label-container {text-align: center;}#sk-container-id-5 div.sk-container {/* jupyter's `normalize.less` sets `[hidden] { display: none; }` but bootstrap.min.css set `[hidden] { display: none !important; }` so we also need the `!important` here to be able to override the default hidden behavior on the sphinx rendered scikit-learn.org. See: https://github.com/scikit-learn/scikit-learn/issues/21755 */display: inline-block !important;position: relative;}#sk-container-id-5 div.sk-text-repr-fallback {display: none;}</style><div id=\"sk-container-id-5\" class=\"sk-top-container\"><div class=\"sk-text-repr-fallback\"><pre>CountVectorizer(max_features=128, ngram_range=(1, 3))</pre><b>In a Jupyter environment, please rerun this cell to show the HTML representation or trust the notebook. <br />On GitHub, the HTML representation is unable to render, please try loading this page with nbviewer.org.</b></div><div class=\"sk-container\" hidden><div class=\"sk-item\"><div class=\"sk-estimator sk-toggleable\"><input class=\"sk-toggleable__control sk-hidden--visually\" id=\"sk-estimator-id-5\" type=\"checkbox\" checked><label for=\"sk-estimator-id-5\" class=\"sk-toggleable__label sk-toggleable__label-arrow\">CountVectorizer</label><div class=\"sk-toggleable__content\"><pre>CountVectorizer(max_features=128, ngram_range=(1, 3))</pre></div></div></div></div></div>"
     },
     "execution_count": 110,
     "metadata": {},
     "output_type": "execute_result"
    }
   ],
   "source": [
    "from sklearn.feature_extraction.text import CountVectorizer\n",
    "\n",
    "VOCAB_SIZE = 128\n",
    "N_GRAM = 3\n",
    "\n",
    "vectorizer = CountVectorizer(ngram_range=(1, N_GRAM), max_features=VOCAB_SIZE)\n",
    "vectorizer.fit(X)"
   ]
  },
  {
   "cell_type": "code",
   "execution_count": 111,
   "metadata": {
    "ExecuteTime": {
     "end_time": "2023-12-26T13:27:33.981630Z",
     "start_time": "2023-12-26T13:27:32.228629Z"
    }
   },
   "outputs": [],
   "source": [
    "X_train_encoded = vectorizer.transform(X)"
   ]
  },
  {
   "cell_type": "code",
   "execution_count": 112,
   "metadata": {
    "ExecuteTime": {
     "end_time": "2023-12-26T13:27:34.000342Z",
     "start_time": "2023-12-26T13:27:33.984760Z"
    }
   },
   "outputs": [
    {
     "name": "stdout",
     "output_type": "stream",
     "text": [
      "(213859, 128)\n"
     ]
    }
   ],
   "source": [
    "# transform the count vector to TF-IDF\n",
    "\n",
    "from sklearn.feature_extraction.text import TfidfTransformer\n",
    "\n",
    "# tfidf_transformer = TfidfTransformer()\n",
    "tf_transformer = TfidfTransformer().fit(X_train_encoded)\n",
    "\n",
    "X_train_tfidf = tf_transformer.transform(X_train_encoded)\n",
    "\n",
    "print(X_train_tfidf.shape)"
   ]
  },
  {
   "cell_type": "code",
   "execution_count": 113,
   "metadata": {
    "ExecuteTime": {
     "end_time": "2023-12-26T13:27:35.476605Z",
     "start_time": "2023-12-26T13:27:34.000453Z"
    }
   },
   "outputs": [
    {
     "name": "stdout",
     "output_type": "stream",
     "text": [
      "(213859, 50)\n"
     ]
    }
   ],
   "source": [
    "# process tfidf feature with SVD\n",
    "\n",
    "from sklearn.decomposition import TruncatedSVD\n",
    "\n",
    "svd = TruncatedSVD(n_components=50).fit(X_train_tfidf)\n",
    "\n",
    "X_train_features = svd.transform(X_train_tfidf)\n",
    "\n",
    "print(X_train_features.shape)"
   ]
  },
  {
   "cell_type": "markdown",
   "metadata": {},
   "source": [
    "# Lidando com dados desbalanceados"
   ]
  },
  {
   "cell_type": "markdown",
   "metadata": {},
   "source": [
    "Função de aplicação de diversos algoritmos de balanceamento de dados em conjuntos desbalanceados:\n",
    "\n",
    "1. **Random UnderSampler (RUS):** Este algoritmo reduz a quantidade de exemplos da classe majoritária aleatoriamente, de modo a equilibrar a distribuição das classes no conjunto de dados. Ele remove aleatoriamente exemplos da classe majoritária até que o número de exemplos de cada classe seja mais equilibrado.\n",
    "\n",
    "2. **NearMiss (NM):** O NearMiss é uma técnica que visa selecionar exemplos da classe majoritária com base na distância de seus vizinhos da classe minoritária. Ele procura pelos exemplos da classe majoritária que estão mais próximos dos exemplos da classe minoritária e os mantém, reduzindo assim a discrepância entre as classes.\n",
    "\n",
    "3. **OneSidedSelection (OSS):** Este algoritmo utiliza um método de seleção baseado em vizinhos para remover exemplos da classe majoritária que estão longe dos exemplos da classe minoritária. Funciona de forma semelhante ao algoritmo de seleção KNN (K-Nearest Neighbors).\n",
    "\n",
    "4. **Random OverSampler (ROS):** Ao contrário do UnderSampling, o OverSampling aumenta a quantidade de exemplos da classe minoritária. O ROS gera exemplos sintéticos aleatórios da classe minoritária para equilibrar as classes.\n",
    "\n",
    "5. **SMOTE (Synthetic Minority Over-sampling Technique):** Similar ao ROS, o SMOTE também trabalha com OverSampling, mas em vez de gerar exemplos sintéticos aleatoriamente, cria novos exemplos sintéticos por meio da interpolação entre exemplos existentes da classe minoritária."
   ]
  },
  {
   "cell_type": "code",
   "execution_count": 114,
   "metadata": {
    "ExecuteTime": {
     "end_time": "2023-12-26T13:27:35.483086Z",
     "start_time": "2023-12-26T13:27:35.478114Z"
    }
   },
   "outputs": [],
   "source": [
    "def criar_dataset_balanceado(X, Y):\n",
    "    '''\n",
    "    Função de aplicação de diversos algoritmos de balanceamento de dados em conjuntos desbalanceados:\n",
    "    '''\n",
    "    \n",
    "    # Random Undersampler\n",
    "    rus = RandomUnderSampler(random_state=32)\n",
    "    X_rus_res, y_rus_res = rus.fit_resample(X, Y)\n",
    "\n",
    "    # NearMiss\n",
    "    nm = NearMiss(version=1)\n",
    "    X_nm_res, y_nm_res = nm.fit_resample(X, Y)\n",
    "\n",
    "    # OneSidedSelection (Algoritmo tipo KNN)\n",
    "    oss = OneSidedSelection(random_state=32)\n",
    "    X_oss_res, y_oss_res = oss.fit_resample(X, Y)\n",
    "\n",
    "    # Random Oversampler\n",
    "    ros = RandomOverSampler(random_state=32)\n",
    "    X_ros_res, y_ros_res = ros.fit_resample(X, Y)\n",
    "\n",
    "    # SMOTE\n",
    "    smote = SMOTE(random_state=32)\n",
    "    X_smote_res, y_smote_res = smote.fit_resample(X, Y)\n",
    "    \n",
    "    return X_rus_res, y_rus_res, X_nm_res, y_nm_res, X_oss_res, y_oss_res, X_ros_res, y_ros_res, X_smote_res, y_smote_res"
   ]
  },
  {
   "cell_type": "markdown",
   "metadata": {},
   "source": [
    "Essa função `fit_predict` realiza uma tarefa de aprendizado supervisionado. Ela divide os dados fornecidos em conjuntos de treino e teste, treina um modelo de aprendizado de máquina usando os dados de treino e, em seguida, faz previsões nos dados de teste. Após as previsões, calcula três métricas de desempenho comuns: acurácia, F1-Score e Coeficiente de Correlação de Matthews (MCC). Essas métricas são então exibidas na tela e retornadas como uma tupla contendo os valores de acurácia, F1-Score e MCC, respectivamente. Este processo permite avaliar o desempenho do modelo usando diferentes métricas para entender sua eficácia na classificação dos dados de teste.\n",
    "\n",
    "Retorna os dados de Acurácia, F1-Score e MCC: \n",
    "\n",
    "```python\n",
    "Random Undersampler\n",
    "Accuracy:  0.842946490618485\n",
    "F1-Score:  0.8308383233532933\n",
    "MCC:  0.6900884943956258\n",
    "```"
   ]
  },
  {
   "cell_type": "code",
   "execution_count": 115,
   "metadata": {
    "ExecuteTime": {
     "end_time": "2023-12-26T13:27:35.484665Z",
     "start_time": "2023-12-26T13:27:35.481834Z"
    }
   },
   "outputs": [],
   "source": [
    "def fit_predict(model, X, Y):\n",
    "    train_cmds, test_cmds, train_labels, test_labels = train_test_split(\n",
    "        X, Y, test_size=0.3, random_state=42\n",
    "    )\n",
    "\n",
    "    # Treinando o modelo\n",
    "    model.fit(train_cmds, train_labels)\n",
    "\n",
    "    # Prevendo os resultados\n",
    "    y_pred = model.predict(test_cmds)\n",
    "\n",
    "    # Calculando as métricas\n",
    "    acc = accuracy_score(test_labels, y_pred)*100\n",
    "    f1 = f1_score(test_labels, y_pred)*100\n",
    "    mcc = matthews_corrcoef(test_labels, y_pred)*100\n",
    "    nota = (acc + 2*f1 + mcc)/4 # Nota final\n",
    "\n",
    "    # Retornando as métricas\n",
    "    print (\"Accuracy: \", acc)\n",
    "    print (\"F1-Score: \", f1)\n",
    "    print (\"MCC: \", mcc)\n",
    "    print(\"Nota: \", nota)\n",
    "\n",
    "    return {\"Accuracy\": acc, \"F1-Score\": f1, \"MCC\": mcc, \"Nota\": nota}"
   ]
  },
  {
   "cell_type": "markdown",
   "metadata": {},
   "source": [
    "Por fim a automação das funções anteriores: "
   ]
  },
  {
   "cell_type": "code",
   "execution_count": 116,
   "metadata": {
    "ExecuteTime": {
     "end_time": "2023-12-26T13:27:35.491436Z",
     "start_time": "2023-12-26T13:27:35.485524Z"
    }
   },
   "outputs": [],
   "source": [
    "import pandas as pd\n",
    "\n",
    "def treinar_modelo(nome_modelo,modelo, X_rus_res, y_rus_res, X_nm_res, y_nm_res, X_oss_res, y_oss_res, X_ros_res, y_ros_res, X_smote_res, y_smote_res):\n",
    "    resultados = []\n",
    "    tecnicas = [\"Random Undersampler\", \"NearMiss\", \"OneSidedSelection\", \"Random Oversampler\", \"SMOTE\"]\n",
    "\n",
    "    # Executando fit_predict para cada técnica e coletando resultados\n",
    "    for tecnica, X_res, y_res in zip(tecnicas, [X_rus_res, X_nm_res, X_oss_res, X_ros_res, X_smote_res], [y_rus_res, y_nm_res, y_oss_res, y_ros_res, y_smote_res]):\n",
    "        print('###################')\n",
    "        print(tecnica)\n",
    "        metricas = fit_predict(modelo, X_res, y_res)\n",
    "        metricas[\"Tecnica\"] = tecnica\n",
    "        metricas[\"Modelo\"] = nome_modelo\n",
    "        resultados.append(metricas)\n",
    "\n",
    "    # Convertendo a lista de resultados em um DataFrame\n",
    "    df_resultados = pd.DataFrame(resultados)\n",
    "\n",
    "    print('###################')\n",
    "    return df_resultados\n"
   ]
  },
  {
   "cell_type": "markdown",
   "metadata": {},
   "source": [
    "## Criação dos dados balanceados"
   ]
  },
  {
   "cell_type": "code",
   "execution_count": 117,
   "metadata": {
    "ExecuteTime": {
     "end_time": "2023-12-26T13:27:59.813697Z",
     "start_time": "2023-12-26T13:27:35.499465Z"
    }
   },
   "outputs": [
    {
     "name": "stdout",
     "output_type": "stream",
     "text": [
      "CPU times: user 3min 18s, sys: 4.22 s, total: 3min 22s\n",
      "Wall time: 24.3 s\n"
     ]
    }
   ],
   "source": [
    "%%time \n",
    "X_rus_res, y_rus_res, X_nm_res, y_nm_res, X_oss_res, y_oss_res, X_ros_res, y_ros_res, X_smote_res, y_smote_res = criar_dataset_balanceado(X_train_features, y)"
   ]
  },
  {
   "cell_type": "markdown",
   "metadata": {},
   "source": [
    "## KNN\n",
    "\n",
    "Treinamento com KNN usando janela de 01 comando e BagOfWords. "
   ]
  },
  {
   "cell_type": "code",
   "execution_count": 118,
   "metadata": {
    "ExecuteTime": {
     "end_time": "2023-12-26T13:27:59.819394Z",
     "start_time": "2023-12-26T13:27:59.813532Z"
    }
   },
   "outputs": [],
   "source": [
    "# Classify\n",
    "from sklearn.neighbors import KNeighborsClassifier"
   ]
  },
  {
   "cell_type": "code",
   "execution_count": 119,
   "metadata": {
    "ExecuteTime": {
     "end_time": "2023-12-26T13:28:42.686657Z",
     "start_time": "2023-12-26T13:27:59.816960Z"
    }
   },
   "outputs": [
    {
     "name": "stdout",
     "output_type": "stream",
     "text": [
      "###################\n",
      "Random Undersampler\n",
      "Accuracy:  91.71084337349397\n",
      "F1-Score:  91.70684667309546\n",
      "MCC:  83.70857667353523\n",
      "Nota:  89.70827834830503\n",
      "###################\n",
      "NearMiss\n",
      "Accuracy:  92.04819277108433\n",
      "F1-Score:  91.58592554818969\n",
      "MCC:  84.08956364223661\n",
      "Nota:  89.82740187742507\n",
      "###################\n",
      "OneSidedSelection\n",
      "Accuracy:  98.97120945240286\n",
      "F1-Score:  65.51724137931033\n",
      "MCC:  65.03803627014175\n",
      "Nota:  73.76093212029132\n",
      "###################\n",
      "Random Oversampler\n",
      "Accuracy:  94.15329288192518\n",
      "F1-Score:  94.10025018584093\n",
      "MCC:  88.31074161091769\n",
      "Nota:  92.66613371613118\n",
      "###################\n",
      "SMOTE\n",
      "Accuracy:  94.05982161245862\n",
      "F1-Score:  93.90111990370617\n",
      "MCC:  88.20476374969024\n",
      "Nota:  92.51670629239031\n",
      "###################\n",
      "CPU times: user 6min 3s, sys: 6.07 s, total: 6min 9s\n",
      "Wall time: 42.9 s\n"
     ]
    }
   ],
   "source": [
    "%%time\n",
    "knn = KNeighborsClassifier(n_neighbors=5, n_jobs=-1)\n",
    "DF_KNN = treinar_modelo(\"KNN\", knn, X_rus_res, y_rus_res, X_nm_res, y_nm_res, X_oss_res, y_oss_res, X_ros_res, y_ros_res, X_smote_res, y_smote_res)"
   ]
  },
  {
   "cell_type": "markdown",
   "metadata": {},
   "source": [
    "## Árvore de decisão "
   ]
  },
  {
   "cell_type": "code",
   "execution_count": 120,
   "metadata": {
    "collapsed": false,
    "ExecuteTime": {
     "end_time": "2023-12-26T13:28:57.296126Z",
     "start_time": "2023-12-26T13:28:42.686526Z"
    }
   },
   "outputs": [
    {
     "name": "stdout",
     "output_type": "stream",
     "text": [
      "###################\n",
      "Random Undersampler\n",
      "Accuracy:  91.7590361445783\n",
      "F1-Score:  91.91489361702128\n",
      "MCC:  84.15950164999133\n",
      "Nota:  89.93708125715305\n",
      "###################\n",
      "NearMiss\n",
      "Accuracy:  92.09638554216868\n",
      "F1-Score:  91.60696008188332\n",
      "MCC:  84.2010168908956\n",
      "Nota:  89.87783064920774\n",
      "###################\n",
      "OneSidedSelection\n",
      "Accuracy:  99.03356039468146\n",
      "F1-Score:  69.27651139742319\n",
      "MCC:  68.79702944173007\n",
      "Nota:  76.59590315781449\n",
      "###################\n",
      "Random Oversampler\n",
      "Accuracy:  94.54935758305477\n",
      "F1-Score:  94.75409586106474\n",
      "MCC:  89.43035936237877\n",
      "Nota:  93.37197716689076\n",
      "###################\n",
      "SMOTE\n",
      "Accuracy:  94.8590801793381\n",
      "F1-Score:  95.05388144557745\n",
      "MCC:  90.05747815895198\n",
      "Nota:  93.75608030736124\n",
      "###################\n",
      "CPU times: user 14.4 s, sys: 47.1 ms, total: 14.4 s\n",
      "Wall time: 14.6 s\n"
     ]
    }
   ],
   "source": [
    "%%time\n",
    "DT = DecisionTreeClassifier(criterion='entropy',random_state=0)\n",
    "DF_DT = treinar_modelo(\"DT\", DT,X_rus_res, y_rus_res, X_nm_res, y_nm_res, X_oss_res, y_oss_res, X_ros_res, y_ros_res, X_smote_res, y_smote_res)"
   ]
  },
  {
   "cell_type": "markdown",
   "metadata": {},
   "source": [
    "## Random Forest"
   ]
  },
  {
   "cell_type": "code",
   "execution_count": 121,
   "metadata": {
    "ExecuteTime": {
     "end_time": "2023-12-26T13:32:35.482059Z",
     "start_time": "2023-12-26T13:28:57.296213Z"
    }
   },
   "outputs": [
    {
     "name": "stdout",
     "output_type": "stream",
     "text": [
      "###################\n",
      "Random Undersampler\n",
      "Accuracy:  93.59036144578313\n",
      "F1-Score:  93.62110311750598\n",
      "MCC:  87.55720091714052\n",
      "Nota:  92.0974421494839\n",
      "###################\n",
      "NearMiss\n",
      "Accuracy:  92.53012048192771\n",
      "F1-Score:  92.10392256749871\n",
      "MCC:  85.0529369485173\n",
      "Nota:  90.4477256413606\n",
      "###################\n",
      "OneSidedSelection\n",
      "Accuracy:  99.09591133696009\n",
      "F1-Score:  70.40816326530613\n",
      "MCC:  69.95370974037351\n",
      "Nota:  77.46648690198646\n",
      "###################\n",
      "Random Oversampler\n",
      "Accuracy:  94.60639090001742\n",
      "F1-Score:  94.80613591462811\n",
      "MCC:  89.5360214132116\n",
      "Nota:  93.43867103562131\n",
      "###################\n",
      "SMOTE\n",
      "Accuracy:  94.97473107206793\n",
      "F1-Score:  95.16330700497089\n",
      "MCC:  90.28335704767966\n",
      "Nota:  93.89617553242233\n",
      "###################\n",
      "CPU times: user 3min 12s, sys: 812 ms, total: 3min 13s\n",
      "Wall time: 3min 38s\n"
     ]
    }
   ],
   "source": [
    "%%time\n",
    "RF = RandomForestClassifier(n_estimators=100,\n",
    "                            random_state=0,\n",
    "                            criterion='gini')\n",
    "DF_RF= treinar_modelo(\"RF\",RF,X_rus_res, y_rus_res, X_nm_res, y_nm_res, X_oss_res, y_oss_res, X_ros_res, y_ros_res, X_smote_res, y_smote_res)"
   ]
  },
  {
   "cell_type": "markdown",
   "metadata": {},
   "source": [
    "## Regressão Logística"
   ]
  },
  {
   "cell_type": "code",
   "execution_count": 122,
   "metadata": {
    "ExecuteTime": {
     "end_time": "2023-12-26T13:32:40.957661Z",
     "start_time": "2023-12-26T13:32:35.480743Z"
    }
   },
   "outputs": [
    {
     "name": "stdout",
     "output_type": "stream",
     "text": [
      "###################\n",
      "Random Undersampler\n",
      "Accuracy:  91.80722891566265\n",
      "F1-Score:  91.5\n",
      "MCC:  83.59575909912101\n",
      "Nota:  89.60074700369591\n",
      "###################\n",
      "NearMiss\n",
      "Accuracy:  91.51807228915662\n",
      "F1-Score:  91.02040816326532\n",
      "MCC:  83.02766386008513\n",
      "Nota:  89.14663811894309\n",
      "###################\n",
      "OneSidedSelection\n",
      "Accuracy:  98.68907143859211\n",
      "F1-Score:  51.63887291546866\n",
      "MCC:  51.50666361374082\n",
      "Nota:  63.36837022081756\n",
      "###################\n",
      "Random Oversampler\n",
      "Accuracy:  90.96814055544114\n",
      "F1-Score:  90.92096252767028\n",
      "MCC:  81.93615505754278\n",
      "Nota:  88.68655516708111\n",
      "###################\n",
      "SMOTE\n",
      "Accuracy:  91.07111737773482\n",
      "F1-Score:  91.02290465420025\n",
      "MCC:  82.1421768351273\n",
      "Nota:  88.81477588031566\n",
      "###################\n",
      "CPU times: user 5.22 s, sys: 174 ms, total: 5.39 s\n",
      "Wall time: 5.47 s\n"
     ]
    }
   ],
   "source": [
    "%%time\n",
    "RL = LogisticRegression(random_state=1, max_iter=500)\n",
    "DF_RL=treinar_modelo(\"RL\",RL,X_rus_res, y_rus_res, X_nm_res, y_nm_res, X_oss_res, y_oss_res, X_ros_res, y_ros_res, X_smote_res, y_smote_res)"
   ]
  },
  {
   "cell_type": "markdown",
   "metadata": {},
   "source": [
    "## SVM"
   ]
  },
  {
   "cell_type": "code",
   "execution_count": 123,
   "metadata": {
    "ExecuteTime": {
     "end_time": "2023-12-26T14:56:20.278488Z",
     "start_time": "2023-12-26T13:32:40.956464Z"
    }
   },
   "outputs": [
    {
     "name": "stdout",
     "output_type": "stream",
     "text": [
      "###################\n",
      "Random Undersampler\n",
      "Accuracy:  91.80722891566265\n",
      "F1-Score:  91.33537206931702\n",
      "MCC:  83.60431647400452\n",
      "Nota:  89.5205723820753\n",
      "###################\n",
      "NearMiss\n",
      "Accuracy:  91.66265060240963\n",
      "F1-Score:  91.2316269640142\n",
      "MCC:  83.30035104564857\n",
      "Nota:  89.35656389402163\n",
      "###################\n",
      "OneSidedSelection\n",
      "Accuracy:  98.66413106168068\n",
      "F1-Score:  53.80053908355795\n",
      "MCC:  53.25466508012291\n",
      "Nota:  64.87996857722987\n",
      "###################\n",
      "Random Oversampler\n",
      "Accuracy:  90.61326658322903\n",
      "F1-Score:  90.35204845958445\n",
      "MCC:  81.31123381325772\n",
      "Nota:  88.15714932891392\n",
      "###################\n",
      "SMOTE\n",
      "Accuracy:  91.12260578888167\n",
      "F1-Score:  91.04135191091713\n",
      "MCC:  82.24883924638503\n",
      "Nota:  88.86353721427524\n",
      "###################\n",
      "CPU times: user 1h 7min 5s, sys: 21.6 s, total: 1h 7min 27s\n",
      "Wall time: 1h 23min 39s\n"
     ]
    }
   ],
   "source": [
    "%%time\n",
    "SVM_bow = SVC(kernel=\"linear\",\n",
    "              random_state=1,\n",
    "              C=2.0)\n",
    "DF_SVC=treinar_modelo(\"SVC\",SVM_bow,X_rus_res, y_rus_res, X_nm_res, y_nm_res, X_oss_res, y_oss_res, X_ros_res, y_ros_res, X_smote_res, y_smote_res)"
   ]
  },
  {
   "cell_type": "markdown",
   "metadata": {},
   "source": [
    "## Rede Neural"
   ]
  },
  {
   "cell_type": "code",
   "execution_count": 124,
   "metadata": {
    "ExecuteTime": {
     "end_time": "2023-12-26T15:06:28.928188Z",
     "start_time": "2023-12-26T14:56:20.278337Z"
    }
   },
   "outputs": [
    {
     "name": "stdout",
     "output_type": "stream",
     "text": [
      "###################\n",
      "Random Undersampler\n",
      "Accuracy:  92.86746987951807\n",
      "F1-Score:  92.95908658420552\n",
      "MCC:  86.25612642223616\n",
      "Nota:  91.26044236754132\n",
      "###################\n",
      "NearMiss\n",
      "Accuracy:  91.90361445783132\n",
      "F1-Score:  91.46341463414635\n",
      "MCC:  83.78876872221468\n",
      "Nota:  89.65480311208468\n",
      "###################\n",
      "OneSidedSelection\n",
      "Accuracy:  99.06941218649166\n",
      "F1-Score:  71.08958837772397\n",
      "MCC:  70.67645444794059\n",
      "Nota:  77.98126084747005\n",
      "###################\n",
      "Random Oversampler\n",
      "Accuracy:  94.40439790244135\n",
      "F1-Score:  94.33965287905255\n",
      "MCC:  88.8183900271031\n",
      "Nota:  92.97552342191238\n",
      "###################\n",
      "SMOTE\n",
      "Accuracy:  94.72600243975856\n",
      "F1-Score:  94.67649598618351\n",
      "MCC:  89.45685220666975\n",
      "Nota:  93.38396165469882\n",
      "###################\n",
      "CPU times: user 7min, sys: 1min 4s, total: 8min 5s\n",
      "Wall time: 9min 48s\n"
     ]
    }
   ],
   "source": [
    "%%time\n",
    "rede_neural = MLPClassifier(random_state=1,\n",
    "                            tol=0.00000000001,\n",
    "                            max_iter=1500,\n",
    "                            hidden_layer_sizes=(64,64,64),\n",
    "                            activation='tanh',\n",
    "                            solver='adam',\n",
    "                            verbose=False)\n",
    "DF_NN=treinar_modelo(\"NN\",rede_neural,X_rus_res, y_rus_res, X_nm_res, y_nm_res, X_oss_res, y_oss_res, X_ros_res, y_ros_res, X_smote_res, y_smote_res)"
   ]
  },
  {
   "cell_type": "code",
   "execution_count": 125,
   "metadata": {
    "ExecuteTime": {
     "end_time": "2023-12-26T15:06:33.021679Z",
     "start_time": "2023-12-26T15:06:19.159583Z"
    }
   },
   "outputs": [
    {
     "data": {
      "text/plain": "    Accuracy   F1-Score        MCC       Nota              Tecnica Modelo  \\\n0  91.710843  91.706847  83.708577  89.708278  Random Undersampler    KNN   \n1  92.048193  91.585926  84.089564  89.827402             NearMiss    KNN   \n2  98.971209  65.517241  65.038036  73.760932    OneSidedSelection    KNN   \n3  94.153293  94.100250  88.310742  92.666134   Random Oversampler    KNN   \n4  94.059822  93.901120  88.204764  92.516706                SMOTE    KNN   \n0  91.759036  91.914894  84.159502  89.937081  Random Undersampler     DT   \n1  92.096386  91.606960  84.201017  89.877831             NearMiss     DT   \n2  99.033560  69.276511  68.797029  76.595903    OneSidedSelection     DT   \n3  94.549358  94.754096  89.430359  93.371977   Random Oversampler     DT   \n4  94.859080  95.053881  90.057478  93.756080                SMOTE     DT   \n0  93.590361  93.621103  87.557201  92.097442  Random Undersampler     RF   \n1  92.530120  92.103923  85.052937  90.447726             NearMiss     RF   \n2  99.095911  70.408163  69.953710  77.466487    OneSidedSelection     RF   \n3  94.606391  94.806136  89.536021  93.438671   Random Oversampler     RF   \n4  94.974731  95.163307  90.283357  93.896176                SMOTE     RF   \n0  91.807229  91.500000  83.595759  89.600747  Random Undersampler     RL   \n1  91.518072  91.020408  83.027664  89.146638             NearMiss     RL   \n2  98.689071  51.638873  51.506664  63.368370    OneSidedSelection     RL   \n3  90.968141  90.920963  81.936155  88.686555   Random Oversampler     RL   \n4  91.071117  91.022905  82.142177  88.814776                SMOTE     RL   \n0  91.807229  91.335372  83.604316  89.520572  Random Undersampler    SVC   \n1  91.662651  91.231627  83.300351  89.356564             NearMiss    SVC   \n2  98.664131  53.800539  53.254665  64.879969    OneSidedSelection    SVC   \n3  90.613267  90.352048  81.311234  88.157149   Random Oversampler    SVC   \n4  91.122606  91.041352  82.248839  88.863537                SMOTE    SVC   \n0  92.867470  92.959087  86.256126  91.260442  Random Undersampler     NN   \n1  91.903614  91.463415  83.788769  89.654803             NearMiss     NN   \n2  99.069412  71.089588  70.676454  77.981261    OneSidedSelection     NN   \n3  94.404398  94.339653  88.818390  92.975523   Random Oversampler     NN   \n4  94.726002  94.676496  89.456852  93.383962                SMOTE     NN   \n\n  Metodo  \n0  TFIDF  \n1  TFIDF  \n2  TFIDF  \n3  TFIDF  \n4  TFIDF  \n0  TFIDF  \n1  TFIDF  \n2  TFIDF  \n3  TFIDF  \n4  TFIDF  \n0  TFIDF  \n1  TFIDF  \n2  TFIDF  \n3  TFIDF  \n4  TFIDF  \n0  TFIDF  \n1  TFIDF  \n2  TFIDF  \n3  TFIDF  \n4  TFIDF  \n0  TFIDF  \n1  TFIDF  \n2  TFIDF  \n3  TFIDF  \n4  TFIDF  \n0  TFIDF  \n1  TFIDF  \n2  TFIDF  \n3  TFIDF  \n4  TFIDF  ",
      "text/html": "<div>\n<style scoped>\n    .dataframe tbody tr th:only-of-type {\n        vertical-align: middle;\n    }\n\n    .dataframe tbody tr th {\n        vertical-align: top;\n    }\n\n    .dataframe thead th {\n        text-align: right;\n    }\n</style>\n<table border=\"1\" class=\"dataframe\">\n  <thead>\n    <tr style=\"text-align: right;\">\n      <th></th>\n      <th>Accuracy</th>\n      <th>F1-Score</th>\n      <th>MCC</th>\n      <th>Nota</th>\n      <th>Tecnica</th>\n      <th>Modelo</th>\n      <th>Metodo</th>\n    </tr>\n  </thead>\n  <tbody>\n    <tr>\n      <th>0</th>\n      <td>91.710843</td>\n      <td>91.706847</td>\n      <td>83.708577</td>\n      <td>89.708278</td>\n      <td>Random Undersampler</td>\n      <td>KNN</td>\n      <td>TFIDF</td>\n    </tr>\n    <tr>\n      <th>1</th>\n      <td>92.048193</td>\n      <td>91.585926</td>\n      <td>84.089564</td>\n      <td>89.827402</td>\n      <td>NearMiss</td>\n      <td>KNN</td>\n      <td>TFIDF</td>\n    </tr>\n    <tr>\n      <th>2</th>\n      <td>98.971209</td>\n      <td>65.517241</td>\n      <td>65.038036</td>\n      <td>73.760932</td>\n      <td>OneSidedSelection</td>\n      <td>KNN</td>\n      <td>TFIDF</td>\n    </tr>\n    <tr>\n      <th>3</th>\n      <td>94.153293</td>\n      <td>94.100250</td>\n      <td>88.310742</td>\n      <td>92.666134</td>\n      <td>Random Oversampler</td>\n      <td>KNN</td>\n      <td>TFIDF</td>\n    </tr>\n    <tr>\n      <th>4</th>\n      <td>94.059822</td>\n      <td>93.901120</td>\n      <td>88.204764</td>\n      <td>92.516706</td>\n      <td>SMOTE</td>\n      <td>KNN</td>\n      <td>TFIDF</td>\n    </tr>\n    <tr>\n      <th>0</th>\n      <td>91.759036</td>\n      <td>91.914894</td>\n      <td>84.159502</td>\n      <td>89.937081</td>\n      <td>Random Undersampler</td>\n      <td>DT</td>\n      <td>TFIDF</td>\n    </tr>\n    <tr>\n      <th>1</th>\n      <td>92.096386</td>\n      <td>91.606960</td>\n      <td>84.201017</td>\n      <td>89.877831</td>\n      <td>NearMiss</td>\n      <td>DT</td>\n      <td>TFIDF</td>\n    </tr>\n    <tr>\n      <th>2</th>\n      <td>99.033560</td>\n      <td>69.276511</td>\n      <td>68.797029</td>\n      <td>76.595903</td>\n      <td>OneSidedSelection</td>\n      <td>DT</td>\n      <td>TFIDF</td>\n    </tr>\n    <tr>\n      <th>3</th>\n      <td>94.549358</td>\n      <td>94.754096</td>\n      <td>89.430359</td>\n      <td>93.371977</td>\n      <td>Random Oversampler</td>\n      <td>DT</td>\n      <td>TFIDF</td>\n    </tr>\n    <tr>\n      <th>4</th>\n      <td>94.859080</td>\n      <td>95.053881</td>\n      <td>90.057478</td>\n      <td>93.756080</td>\n      <td>SMOTE</td>\n      <td>DT</td>\n      <td>TFIDF</td>\n    </tr>\n    <tr>\n      <th>0</th>\n      <td>93.590361</td>\n      <td>93.621103</td>\n      <td>87.557201</td>\n      <td>92.097442</td>\n      <td>Random Undersampler</td>\n      <td>RF</td>\n      <td>TFIDF</td>\n    </tr>\n    <tr>\n      <th>1</th>\n      <td>92.530120</td>\n      <td>92.103923</td>\n      <td>85.052937</td>\n      <td>90.447726</td>\n      <td>NearMiss</td>\n      <td>RF</td>\n      <td>TFIDF</td>\n    </tr>\n    <tr>\n      <th>2</th>\n      <td>99.095911</td>\n      <td>70.408163</td>\n      <td>69.953710</td>\n      <td>77.466487</td>\n      <td>OneSidedSelection</td>\n      <td>RF</td>\n      <td>TFIDF</td>\n    </tr>\n    <tr>\n      <th>3</th>\n      <td>94.606391</td>\n      <td>94.806136</td>\n      <td>89.536021</td>\n      <td>93.438671</td>\n      <td>Random Oversampler</td>\n      <td>RF</td>\n      <td>TFIDF</td>\n    </tr>\n    <tr>\n      <th>4</th>\n      <td>94.974731</td>\n      <td>95.163307</td>\n      <td>90.283357</td>\n      <td>93.896176</td>\n      <td>SMOTE</td>\n      <td>RF</td>\n      <td>TFIDF</td>\n    </tr>\n    <tr>\n      <th>0</th>\n      <td>91.807229</td>\n      <td>91.500000</td>\n      <td>83.595759</td>\n      <td>89.600747</td>\n      <td>Random Undersampler</td>\n      <td>RL</td>\n      <td>TFIDF</td>\n    </tr>\n    <tr>\n      <th>1</th>\n      <td>91.518072</td>\n      <td>91.020408</td>\n      <td>83.027664</td>\n      <td>89.146638</td>\n      <td>NearMiss</td>\n      <td>RL</td>\n      <td>TFIDF</td>\n    </tr>\n    <tr>\n      <th>2</th>\n      <td>98.689071</td>\n      <td>51.638873</td>\n      <td>51.506664</td>\n      <td>63.368370</td>\n      <td>OneSidedSelection</td>\n      <td>RL</td>\n      <td>TFIDF</td>\n    </tr>\n    <tr>\n      <th>3</th>\n      <td>90.968141</td>\n      <td>90.920963</td>\n      <td>81.936155</td>\n      <td>88.686555</td>\n      <td>Random Oversampler</td>\n      <td>RL</td>\n      <td>TFIDF</td>\n    </tr>\n    <tr>\n      <th>4</th>\n      <td>91.071117</td>\n      <td>91.022905</td>\n      <td>82.142177</td>\n      <td>88.814776</td>\n      <td>SMOTE</td>\n      <td>RL</td>\n      <td>TFIDF</td>\n    </tr>\n    <tr>\n      <th>0</th>\n      <td>91.807229</td>\n      <td>91.335372</td>\n      <td>83.604316</td>\n      <td>89.520572</td>\n      <td>Random Undersampler</td>\n      <td>SVC</td>\n      <td>TFIDF</td>\n    </tr>\n    <tr>\n      <th>1</th>\n      <td>91.662651</td>\n      <td>91.231627</td>\n      <td>83.300351</td>\n      <td>89.356564</td>\n      <td>NearMiss</td>\n      <td>SVC</td>\n      <td>TFIDF</td>\n    </tr>\n    <tr>\n      <th>2</th>\n      <td>98.664131</td>\n      <td>53.800539</td>\n      <td>53.254665</td>\n      <td>64.879969</td>\n      <td>OneSidedSelection</td>\n      <td>SVC</td>\n      <td>TFIDF</td>\n    </tr>\n    <tr>\n      <th>3</th>\n      <td>90.613267</td>\n      <td>90.352048</td>\n      <td>81.311234</td>\n      <td>88.157149</td>\n      <td>Random Oversampler</td>\n      <td>SVC</td>\n      <td>TFIDF</td>\n    </tr>\n    <tr>\n      <th>4</th>\n      <td>91.122606</td>\n      <td>91.041352</td>\n      <td>82.248839</td>\n      <td>88.863537</td>\n      <td>SMOTE</td>\n      <td>SVC</td>\n      <td>TFIDF</td>\n    </tr>\n    <tr>\n      <th>0</th>\n      <td>92.867470</td>\n      <td>92.959087</td>\n      <td>86.256126</td>\n      <td>91.260442</td>\n      <td>Random Undersampler</td>\n      <td>NN</td>\n      <td>TFIDF</td>\n    </tr>\n    <tr>\n      <th>1</th>\n      <td>91.903614</td>\n      <td>91.463415</td>\n      <td>83.788769</td>\n      <td>89.654803</td>\n      <td>NearMiss</td>\n      <td>NN</td>\n      <td>TFIDF</td>\n    </tr>\n    <tr>\n      <th>2</th>\n      <td>99.069412</td>\n      <td>71.089588</td>\n      <td>70.676454</td>\n      <td>77.981261</td>\n      <td>OneSidedSelection</td>\n      <td>NN</td>\n      <td>TFIDF</td>\n    </tr>\n    <tr>\n      <th>3</th>\n      <td>94.404398</td>\n      <td>94.339653</td>\n      <td>88.818390</td>\n      <td>92.975523</td>\n      <td>Random Oversampler</td>\n      <td>NN</td>\n      <td>TFIDF</td>\n    </tr>\n    <tr>\n      <th>4</th>\n      <td>94.726002</td>\n      <td>94.676496</td>\n      <td>89.456852</td>\n      <td>93.383962</td>\n      <td>SMOTE</td>\n      <td>NN</td>\n      <td>TFIDF</td>\n    </tr>\n  </tbody>\n</table>\n</div>"
     },
     "execution_count": 125,
     "metadata": {},
     "output_type": "execute_result"
    }
   ],
   "source": [
    "df_resultados_concatenados = pd.concat([DF_KNN, DF_DT, DF_RF, DF_RL, DF_SVC, DF_NN])\n",
    "df_resultados_concatenados['Metodo'] = 'TFIDF'\n",
    "df_resultados_concatenados.to_csv(\"resultados_concatenados_com_TFIDF.csv\", index=False)\n",
    "df_resultados_concatenados\n"
   ]
  }
 ],
 "metadata": {
  "kernelspec": {
   "display_name": "base",
   "language": "python",
   "name": "python3"
  },
  "language_info": {
   "codemirror_mode": {
    "name": "ipython",
    "version": 3
   },
   "file_extension": ".py",
   "mimetype": "text/x-python",
   "name": "python",
   "nbconvert_exporter": "python",
   "pygments_lexer": "ipython3",
   "version": "3.11.5"
  }
 },
 "nbformat": 4,
 "nbformat_minor": 2
}
