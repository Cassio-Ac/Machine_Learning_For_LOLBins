{
 "cells": [
  {
   "cell_type": "markdown",
   "metadata": {},
   "source": [
    "# Melhoria no tratamento de dados"
   ]
  },
  {
   "cell_type": "code",
   "execution_count": 1,
   "metadata": {
    "ExecuteTime": {
     "end_time": "2023-12-26T18:39:22.043071Z",
     "start_time": "2023-12-26T18:39:21.988705Z"
    }
   },
   "outputs": [
    {
     "data": {
      "text/plain": [
       "'\\n!pip uninstall -y scikit-learn\\n!pip install scikit-learn==1.2.2\\n'"
      ]
     },
     "execution_count": 1,
     "metadata": {},
     "output_type": "execute_result"
    }
   ],
   "source": [
    "'''\n",
    "!pip uninstall -y scikit-learn\n",
    "!pip install scikit-learn==1.2.2\n",
    "'''"
   ]
  },
  {
   "cell_type": "code",
   "execution_count": 2,
   "metadata": {
    "ExecuteTime": {
     "end_time": "2023-12-26T18:39:22.060067Z",
     "start_time": "2023-12-26T18:39:21.994547Z"
    }
   },
   "outputs": [],
   "source": [
    "import re\n",
    "from textacy.preprocessing.replace import emails, urls\n",
    "from textacy.preprocessing.normalize import quotation_marks\n",
    "from imblearn.under_sampling import RandomUnderSampler, NearMiss, OneSidedSelection\n",
    "from imblearn.over_sampling import RandomOverSampler, SMOTE\n",
    "import numpy as np\n",
    "from sklearn.metrics import matthews_corrcoef, make_scorer, f1_score, accuracy_score\n",
    "from sklearn.model_selection import cross_val_score, cross_validate\n",
    "import os\n",
    "import joblib\n",
    "from pprint import pprint\n",
    "from sklearn.model_selection import train_test_split\n",
    "\n",
    "\n",
    "# Importação dos algoritmos de ML \n",
    "\n",
    "from sklearn.tree import DecisionTreeClassifier\n",
    "from sklearn.ensemble import RandomForestClassifier\n",
    "from sklearn.neighbors import KNeighborsClassifier\n",
    "from sklearn.linear_model import LogisticRegression\n",
    "from sklearn.svm import SVC\n",
    "from sklearn.neural_network import MLPClassifier"
   ]
  },
  {
   "cell_type": "code",
   "execution_count": 3,
   "metadata": {
    "ExecuteTime": {
     "end_time": "2023-12-26T18:39:22.066220Z",
     "start_time": "2023-12-26T18:39:21.999919Z"
    }
   },
   "outputs": [],
   "source": [
    "def replace_quoted_string(text):\n",
    "    \"\"\"\n",
    "    Substitui tudo que está entre aspas por _STRING_\n",
    "    \"\"\"\n",
    "    return re.sub(r\"\\\"(.+?)\\\"|\\'(.+?)\\'\", \"_STRING_\", text)\n",
    "\n",
    "def replace_file_path(text):\n",
    "    \"\"\"Replace file name or directory name with _PATH_\n",
    "    \"\"\"\n",
    "    #return re.sub(r\"(~)*(/[^/ ]*)+\", \"_PATH_\", text) # ((?:[^/]*/)*)(.*)\n",
    "    return re.sub(r\"((?<= )[^ ]*/)([^/ ]*)\", r\"_PATH_/\\2\", text) # Modificado para substituir apenas o diretório não o arquivo final\n",
    "\n",
    "def replace_env_variables(text):\n",
    "    \"\"\"Replace $String with $_ENV and String= with _ENV_=.\n",
    "    \"\"\"\n",
    "    text = re.sub(r\"\\$([A-Za-z_][A-Za-z0-9_]*)\", r\"$_ENV\", text)\n",
    "    text = re.sub(r\"([A-Za-z_][A-Za-z0-9_]*)=\", r\"_ENV_=\", text)\n",
    "    return text\n",
    "\n",
    "def replace_ip_address(text):\n",
    "    \"\"\"Replace IPv4 with _IP_\n",
    "    \"\"\"\n",
    "    return re.sub(\"[0-9]+(?:\\.[0-9]+){3}\", \"_IP_\", text)\n",
    "\n",
    "def refine_pipe(text):\n",
    "    \"\"\"Make clear seperation between different commands in pipe.\n",
    "    E.g.: cmd1|cmd2 -> cmd1 | cmd2\n",
    "    \"\"\"\n",
    "    return text.replace(\"|\", \" | \")\n",
    "\n",
    "def normalize(line):\n",
    "   \n",
    "    # convert to lowercase\n",
    "    line = line.lower()\n",
    "    \n",
    "    # Replace $String with $_ENV and String= with _ENV_=\n",
    "    line = replace_env_variables(line)\n",
    "\n",
    "    # normalize quoted mark\n",
    "    line = quotation_marks(line) #Função do TEXTACY\n",
    "\n",
    "    # refine pipe operator\n",
    "    line = refine_pipe(line)\n",
    "\n",
    "    # replace quoted text by _STRING_\n",
    "    line = replace_quoted_string(line)\n",
    "\n",
    "    # replace IP adress by '_IP_' token\n",
    "    line = replace_ip_address(line)\n",
    "\n",
    "    # replace file path by '_PATH_' token\n",
    "    line = replace_file_path(line)\n",
    "\n",
    "    # replace email by '_EMAIL_' token\n",
    "    line = emails(line, \"_EMAIL_\") #Função do TEXTACY\n",
    "\n",
    "    # replace URL by '_URL_' token\n",
    "    line = urls(line, \"_URL_\") #Função do TEXTACY\n",
    "    \n",
    "    return line\n"
   ]
  },
  {
   "cell_type": "markdown",
   "metadata": {},
   "source": [
    "# Leitura dos arquivos Z"
   ]
  },
  {
   "cell_type": "code",
   "execution_count": 4,
   "metadata": {
    "ExecuteTime": {
     "end_time": "2023-12-26T18:39:22.142701Z",
     "start_time": "2023-12-26T18:39:22.002976Z"
    }
   },
   "outputs": [
    {
     "name": "stdout",
     "output_type": "stream",
     "text": [
      "660\n",
      "1457\n"
     ]
    }
   ],
   "source": [
    "benign_logs = joblib.load(f\"./art_benign.z\")\n",
    "GTFOBins = joblib.load(f\"./art_gtfo.z\")\n",
    "\n",
    "benign_labels = [0] * len(benign_logs)\n",
    "GTFOBins_labels = [1] * len(GTFOBins)\n",
    "\n",
    "print(len(benign_logs))\n",
    "print(len(GTFOBins))"
   ]
  },
  {
   "cell_type": "code",
   "execution_count": 5,
   "metadata": {
    "ExecuteTime": {
     "end_time": "2023-12-26T18:39:22.147327Z",
     "start_time": "2023-12-26T18:39:22.142942Z"
    }
   },
   "outputs": [
    {
     "data": {
      "text/plain": [
       "23"
      ]
     },
     "execution_count": 5,
     "metadata": {},
     "output_type": "execute_result"
    }
   ],
   "source": [
    "len(benign_logs[0])"
   ]
  },
  {
   "cell_type": "markdown",
   "metadata": {},
   "source": [
    "# Criação da Janela de 03 Comandos"
   ]
  },
  {
   "cell_type": "code",
   "execution_count": 6,
   "metadata": {
    "ExecuteTime": {
     "end_time": "2023-12-26T18:39:22.148182Z",
     "start_time": "2023-12-26T18:39:22.146132Z"
    }
   },
   "outputs": [],
   "source": [
    "def create_n_command_by_sliding_window(session_cmds, labels, window_size=3):\n",
    "    cmds_flat = []\n",
    "    labels_flat = []\n",
    "\n",
    "    for sess_idx, cmds in enumerate(session_cmds):\n",
    "        for i in range(len(cmds) + 1):\n",
    "            start_idx = max(0, i - window_size)\n",
    "            if start_idx == i:\n",
    "                continue\n",
    "            cmds_flat.append(\" \".join(cmds[start_idx:i]))\n",
    "            labels_flat.append(labels[sess_idx])\n",
    "\n",
    "    return cmds_flat, labels_flat"
   ]
  },
  {
   "cell_type": "code",
   "execution_count": 7,
   "metadata": {
    "ExecuteTime": {
     "end_time": "2023-12-26T18:39:22.190186Z",
     "start_time": "2023-12-26T18:39:22.188206Z"
    }
   },
   "outputs": [
    {
     "name": "stdout",
     "output_type": "stream",
     "text": [
      "N-commands 213859 213859\n"
     ]
    }
   ],
   "source": [
    "WINDOW_SIZE = 3\n",
    "\n",
    "cmds_flat, labels_flat = create_n_command_by_sliding_window(\n",
    "    session_cmds=benign_logs+GTFOBins, labels=benign_labels+GTFOBins_labels, window_size=WINDOW_SIZE\n",
    ")\n",
    "\n",
    "print(\"N-commands\", len(cmds_flat), len(labels_flat))"
   ]
  },
  {
   "cell_type": "code",
   "execution_count": 8,
   "metadata": {
    "ExecuteTime": {
     "end_time": "2023-12-26T18:39:22.194469Z",
     "start_time": "2023-12-26T18:39:22.190517Z"
    }
   },
   "outputs": [
    {
     "name": "stdout",
     "output_type": "stream",
     "text": [
      "['git pull git add . git commit -m _STRING_',\n",
      " 'git add . git commit -m _STRING_ git push',\n",
      " 'git commit -m _STRING_ git push git checkout']\n"
     ]
    }
   ],
   "source": [
    "pprint(cmds_flat[1000:1003])"
   ]
  },
  {
   "cell_type": "code",
   "execution_count": 9,
   "metadata": {
    "ExecuteTime": {
     "end_time": "2023-12-26T18:39:22.239613Z",
     "start_time": "2023-12-26T18:39:22.206634Z"
    }
   },
   "outputs": [
    {
     "name": "stdout",
     "output_type": "stream",
     "text": [
      "157045\n"
     ]
    }
   ],
   "source": [
    "# try to filter the unique n-commands\n",
    "unique_indices = []\n",
    "cmd_set = set()\n",
    "\n",
    "for i, cmd in enumerate(cmds_flat):\n",
    "    if cmd not in cmd_set:\n",
    "        cmd_set.add(cmd)\n",
    "        unique_indices.append(i)\n",
    "\n",
    "print(len(cmd_set))"
   ]
  },
  {
   "cell_type": "code",
   "execution_count": 10,
   "metadata": {
    "ExecuteTime": {
     "end_time": "2023-12-26T18:39:22.239759Z",
     "start_time": "2023-12-26T18:39:22.230630Z"
    }
   },
   "outputs": [
    {
     "name": "stdout",
     "output_type": "stream",
     "text": [
      "157045 157045\n"
     ]
    }
   ],
   "source": [
    "X_unique = [cmds_flat[i] for i in unique_indices]\n",
    "y_unique = [labels_flat[i] for i in unique_indices]\n",
    "print(len(X_unique), len(y_unique))"
   ]
  },
  {
   "cell_type": "markdown",
   "metadata": {},
   "source": [
    "# Classificção de 3-Comandos com Doc2Vec"
   ]
  },
  {
   "cell_type": "code",
   "execution_count": 11,
   "metadata": {
    "ExecuteTime": {
     "end_time": "2023-12-26T18:39:22.240347Z",
     "start_time": "2023-12-26T18:39:22.234758Z"
    }
   },
   "outputs": [
    {
     "name": "stdout",
     "output_type": "stream",
     "text": [
      "213859 213859\n"
     ]
    }
   ],
   "source": [
    "X, y = cmds_flat, labels_flat\n",
    "print(len(X), len(y))"
   ]
  },
  {
   "cell_type": "code",
   "execution_count": 12,
   "metadata": {
    "ExecuteTime": {
     "end_time": "2023-12-26T18:39:22.362912Z",
     "start_time": "2023-12-26T18:39:22.265949Z"
    }
   },
   "outputs": [],
   "source": [
    "# create tagged corpus: {[list of token], [tag]}\n",
    "\n",
    "from gensim.models import doc2vec\n",
    "\n",
    "all_corpus = []\n",
    "\n",
    "for cmd, lbl in zip(cmds_flat, labels_flat):\n",
    "    tokens = cmd.split()\n",
    "    all_corpus.append(doc2vec.TaggedDocument(tokens, str(lbl)))"
   ]
  },
  {
   "cell_type": "code",
   "execution_count": 13,
   "metadata": {
    "ExecuteTime": {
     "end_time": "2023-12-26T18:39:57.440867Z",
     "start_time": "2023-12-26T18:39:22.363342Z"
    }
   },
   "outputs": [],
   "source": [
    "# build Doc2Vec model\n",
    "\n",
    "VECTOR_SIZE = 128\n",
    "\n",
    "model = doc2vec.Doc2Vec(\n",
    "    vector_size = VECTOR_SIZE,\n",
    "    min_count = 2,\n",
    ")\n",
    "\n",
    "model.build_vocab(all_corpus)\n",
    "\n",
    "# train model\n",
    "\n",
    "model.train(all_corpus, total_examples=model.corpus_count, epochs=model.epochs)"
   ]
  },
  {
   "cell_type": "code",
   "execution_count": 14,
   "metadata": {
    "ExecuteTime": {
     "end_time": "2023-12-26T18:40:24.285413Z",
     "start_time": "2023-12-26T18:39:57.441430Z"
    }
   },
   "outputs": [
    {
     "name": "stdout",
     "output_type": "stream",
     "text": [
      "213859 213859\n"
     ]
    }
   ],
   "source": [
    "# build feature\n",
    "\n",
    "def extract_features(tagged_corpus, model):\n",
    "    X = []\n",
    "    y = []\n",
    "\n",
    "    for words, tags in tagged_corpus:\n",
    "        X.append(model.infer_vector(words))\n",
    "        y.append(float(tags))\n",
    "\n",
    "    return X, y\n",
    "\n",
    "X_train_features, y = extract_features(all_corpus, model)\n",
    "\n",
    "print(len(X_train_features), len(y))"
   ]
  },
  {
   "cell_type": "markdown",
   "metadata": {},
   "source": [
    "# Lidando com dados desbalanceados"
   ]
  },
  {
   "cell_type": "markdown",
   "metadata": {},
   "source": [
    "Função de aplicação de diversos algoritmos de balanceamento de dados em conjuntos desbalanceados:\n",
    "\n",
    "1. **Random UnderSampler (RUS):** Este algoritmo reduz a quantidade de exemplos da classe majoritária aleatoriamente, de modo a equilibrar a distribuição das classes no conjunto de dados. Ele remove aleatoriamente exemplos da classe majoritária até que o número de exemplos de cada classe seja mais equilibrado.\n",
    "\n",
    "2. **NearMiss (NM):** O NearMiss é uma técnica que visa selecionar exemplos da classe majoritária com base na distância de seus vizinhos da classe minoritária. Ele procura pelos exemplos da classe majoritária que estão mais próximos dos exemplos da classe minoritária e os mantém, reduzindo assim a discrepância entre as classes.\n",
    "\n",
    "3. **OneSidedSelection (OSS):** Este algoritmo utiliza um método de seleção baseado em vizinhos para remover exemplos da classe majoritária que estão longe dos exemplos da classe minoritária. Funciona de forma semelhante ao algoritmo de seleção KNN (K-Nearest Neighbors).\n",
    "\n",
    "4. **Random OverSampler (ROS):** Ao contrário do UnderSampling, o OverSampling aumenta a quantidade de exemplos da classe minoritária. O ROS gera exemplos sintéticos aleatórios da classe minoritária para equilibrar as classes.\n",
    "\n",
    "5. **SMOTE (Synthetic Minority Over-sampling Technique):** Similar ao ROS, o SMOTE também trabalha com OverSampling, mas em vez de gerar exemplos sintéticos aleatoriamente, cria novos exemplos sintéticos por meio da interpolação entre exemplos existentes da classe minoritária."
   ]
  },
  {
   "cell_type": "code",
   "execution_count": 15,
   "metadata": {
    "ExecuteTime": {
     "end_time": "2023-12-26T18:40:24.292898Z",
     "start_time": "2023-12-26T18:40:24.291338Z"
    }
   },
   "outputs": [],
   "source": [
    "def criar_dataset_balanceado(X, Y):\n",
    "    '''\n",
    "    Função de aplicação de diversos algoritmos de balanceamento de dados em conjuntos desbalanceados:\n",
    "    '''\n",
    "    \n",
    "    # Random Undersampler\n",
    "    rus = RandomUnderSampler(random_state=32)\n",
    "    X_rus_res, y_rus_res = rus.fit_resample(X, Y)\n",
    "\n",
    "    # NearMiss\n",
    "    nm = NearMiss(version=1)\n",
    "    X_nm_res, y_nm_res = nm.fit_resample(X, Y)\n",
    "\n",
    "    # OneSidedSelection (Algoritmo tipo KNN)\n",
    "    oss = OneSidedSelection(random_state=32)\n",
    "    X_oss_res, y_oss_res = oss.fit_resample(X, Y)\n",
    "\n",
    "    # Random Oversampler\n",
    "    ros = RandomOverSampler(random_state=32)\n",
    "    X_ros_res, y_ros_res = ros.fit_resample(X, Y)\n",
    "\n",
    "    # SMOTE\n",
    "    smote = SMOTE(random_state=32)\n",
    "    X_smote_res, y_smote_res = smote.fit_resample(X, Y)\n",
    "    \n",
    "    return X_rus_res, y_rus_res, X_nm_res, y_nm_res, X_oss_res, y_oss_res, X_ros_res, y_ros_res, X_smote_res, y_smote_res"
   ]
  },
  {
   "cell_type": "markdown",
   "metadata": {},
   "source": [
    "Essa função `fit_predict` realiza uma tarefa de aprendizado supervisionado. Ela divide os dados fornecidos em conjuntos de treino e teste, treina um modelo de aprendizado de máquina usando os dados de treino e, em seguida, faz previsões nos dados de teste. Após as previsões, calcula três métricas de desempenho comuns: acurácia, F1-Score e Coeficiente de Correlação de Matthews (MCC). Essas métricas são então exibidas na tela e retornadas como uma tupla contendo os valores de acurácia, F1-Score e MCC, respectivamente. Este processo permite avaliar o desempenho do modelo usando diferentes métricas para entender sua eficácia na classificação dos dados de teste.\n",
    "\n",
    "Retorna os dados de Acurácia, F1-Score e MCC: \n",
    "\n",
    "```python\n",
    "Random Undersampler\n",
    "Accuracy:  0.842946490618485\n",
    "F1-Score:  0.8308383233532933\n",
    "MCC:  0.6900884943956258\n",
    "```"
   ]
  },
  {
   "cell_type": "code",
   "execution_count": 16,
   "metadata": {
    "ExecuteTime": {
     "end_time": "2023-12-26T18:40:24.297307Z",
     "start_time": "2023-12-26T18:40:24.294132Z"
    }
   },
   "outputs": [],
   "source": [
    "def fit_predict(model, X, Y):\n",
    "    train_cmds, test_cmds, train_labels, test_labels = train_test_split(\n",
    "        X, Y, test_size=0.3, random_state=42\n",
    "    )\n",
    "\n",
    "    # Treinando o modelo\n",
    "    model.fit(train_cmds, train_labels)\n",
    "\n",
    "    # Prevendo os resultados\n",
    "    y_pred = model.predict(test_cmds)\n",
    "\n",
    "    # Calculando as métricas\n",
    "    acc = accuracy_score(test_labels, y_pred)*100\n",
    "    f1 = f1_score(test_labels, y_pred)*100\n",
    "    mcc = matthews_corrcoef(test_labels, y_pred)*100\n",
    "    nota = (acc + 2*f1 + mcc)/4 # Nota final\n",
    "\n",
    "    # Retornando as métricas\n",
    "    print (\"Accuracy: \", acc)\n",
    "    print (\"F1-Score: \", f1)\n",
    "    print (\"MCC: \", mcc)\n",
    "    print(\"Nota: \", nota)\n",
    "\n",
    "    return {\"Accuracy\": acc, \"F1-Score\": f1, \"MCC\": mcc, \"Nota\": nota}"
   ]
  },
  {
   "cell_type": "markdown",
   "metadata": {},
   "source": [
    "Por fim a automação das funções anteriores: "
   ]
  },
  {
   "cell_type": "code",
   "execution_count": 17,
   "metadata": {
    "ExecuteTime": {
     "end_time": "2023-12-26T18:40:24.301291Z",
     "start_time": "2023-12-26T18:40:24.296876Z"
    }
   },
   "outputs": [],
   "source": [
    "import pandas as pd\n",
    "\n",
    "def treinar_modelo(nome_modelo,modelo, X_rus_res, y_rus_res, X_nm_res, y_nm_res, X_oss_res, y_oss_res, X_ros_res, y_ros_res, X_smote_res, y_smote_res):\n",
    "    resultados = []\n",
    "    tecnicas = [\"Random Undersampler\", \"NearMiss\", \"OneSidedSelection\", \"Random Oversampler\", \"SMOTE\"]\n",
    "\n",
    "    # Executando fit_predict para cada técnica e coletando resultados\n",
    "    for tecnica, X_res, y_res in zip(tecnicas, [X_rus_res, X_nm_res, X_oss_res, X_ros_res, X_smote_res], [y_rus_res, y_nm_res, y_oss_res, y_ros_res, y_smote_res]):\n",
    "        print('###################')\n",
    "        print(tecnica)\n",
    "        metricas = fit_predict(modelo, X_res, y_res)\n",
    "        metricas[\"Tecnica\"] = tecnica\n",
    "        metricas[\"Modelo\"] = nome_modelo\n",
    "        resultados.append(metricas)\n",
    "\n",
    "    # Convertendo a lista de resultados em um DataFrame\n",
    "    df_resultados = pd.DataFrame(resultados)\n",
    "\n",
    "    print('###################')\n",
    "    return df_resultados\n"
   ]
  },
  {
   "cell_type": "markdown",
   "metadata": {},
   "source": [
    "## Criação dos dados balanceados"
   ]
  },
  {
   "cell_type": "code",
   "execution_count": 18,
   "metadata": {
    "ExecuteTime": {
     "end_time": "2023-12-26T18:41:12.251699Z",
     "start_time": "2023-12-26T18:40:24.308261Z"
    }
   },
   "outputs": [
    {
     "name": "stdout",
     "output_type": "stream",
     "text": [
      "CPU times: user 7min 18s, sys: 6.91 s, total: 7min 24s\n",
      "Wall time: 45.2 s\n"
     ]
    }
   ],
   "source": [
    "%%time \n",
    "X_rus_res, y_rus_res, X_nm_res, y_nm_res, X_oss_res, y_oss_res, X_ros_res, y_ros_res, X_smote_res, y_smote_res = criar_dataset_balanceado(X_train_features, y)"
   ]
  },
  {
   "cell_type": "markdown",
   "metadata": {},
   "source": [
    "## KNN\n",
    "\n",
    "Treinamento com KNN usando janela de 01 comando e BagOfWords. "
   ]
  },
  {
   "cell_type": "code",
   "execution_count": 19,
   "metadata": {
    "ExecuteTime": {
     "end_time": "2023-12-26T18:41:12.256627Z",
     "start_time": "2023-12-26T18:41:12.252114Z"
    }
   },
   "outputs": [],
   "source": [
    "# Classify\n",
    "from sklearn.neighbors import KNeighborsClassifier"
   ]
  },
  {
   "cell_type": "code",
   "execution_count": 20,
   "metadata": {
    "ExecuteTime": {
     "end_time": "2023-12-26T18:42:29.550551Z",
     "start_time": "2023-12-26T18:41:12.259365Z"
    }
   },
   "outputs": [
    {
     "name": "stdout",
     "output_type": "stream",
     "text": [
      "###################\n",
      "Random Undersampler\n",
      "Accuracy:  85.6867469879518\n",
      "F1-Score:  86.16674429436422\n",
      "MCC:  72.30255697364608\n",
      "Nota:  82.58069813758158\n",
      "###################\n",
      "NearMiss\n",
      "Accuracy:  94.3132530120482\n",
      "F1-Score:  93.7033084311633\n",
      "MCC:  89.14176644649741\n",
      "Nota:  92.71540908021805\n",
      "###################\n",
      "OneSidedSelection\n",
      "Accuracy:  99.03338642680907\n",
      "F1-Score:  56.43912737508797\n",
      "MCC:  60.80251974580607\n",
      "Nota:  68.17854023069778\n",
      "###################\n",
      "Random Oversampler\n",
      "Accuracy:  98.72625592116728\n",
      "F1-Score:  98.73755613478629\n",
      "MCC:  97.48435315492175\n",
      "Nota:  98.4214303364154\n",
      "###################\n",
      "SMOTE\n",
      "Accuracy:  91.76343847530933\n",
      "F1-Score:  92.36350817408675\n",
      "MCC:  84.69251836802661\n",
      "Nota:  90.29574329787735\n",
      "###################\n",
      "CPU times: user 12min 11s, sys: 8.37 s, total: 12min 19s\n",
      "Wall time: 1min 21s\n"
     ]
    }
   ],
   "source": [
    "%%time\n",
    "knn = KNeighborsClassifier(n_neighbors=5, n_jobs=-1)\n",
    "DF_KNN = treinar_modelo(\"KNN\", knn, X_rus_res, y_rus_res, X_nm_res, y_nm_res, X_oss_res, y_oss_res, X_ros_res, y_ros_res, X_smote_res, y_smote_res)"
   ]
  },
  {
   "cell_type": "markdown",
   "metadata": {},
   "source": [
    "## Árvore de decisão "
   ]
  },
  {
   "cell_type": "code",
   "execution_count": 21,
   "metadata": {
    "ExecuteTime": {
     "end_time": "2023-12-26T18:44:08.740197Z",
     "start_time": "2023-12-26T18:42:29.566431Z"
    },
    "collapsed": false
   },
   "outputs": [
    {
     "name": "stdout",
     "output_type": "stream",
     "text": [
      "###################\n",
      "Random Undersampler\n",
      "Accuracy:  78.26506024096386\n",
      "F1-Score:  77.8813143697891\n",
      "MCC:  56.597416000946666\n",
      "Nota:  72.65627624537218\n",
      "###################\n",
      "NearMiss\n",
      "Accuracy:  95.18072289156626\n",
      "F1-Score:  95.0\n",
      "MCC:  90.35167386883846\n",
      "Nota:  93.88309919010118\n",
      "###################\n",
      "OneSidedSelection\n",
      "Accuracy:  98.00899465942096\n",
      "F1-Score:  39.140811455847256\n",
      "MCC:  38.20514821367229\n",
      "Nota:  53.623941446196945\n",
      "###################\n",
      "Random Oversampler\n",
      "Accuracy:  99.35441453715879\n",
      "F1-Score:  99.35613332385309\n",
      "MCC:  98.71710213400074\n",
      "Nota:  99.19594582971642\n",
      "###################\n",
      "SMOTE\n",
      "Accuracy:  96.37442372585986\n",
      "F1-Score:  96.4124752118262\n",
      "MCC:  92.78797803375932\n",
      "Nota:  95.4968380458179\n",
      "###################\n",
      "CPU times: user 1min 40s, sys: 147 ms, total: 1min 41s\n",
      "Wall time: 1min 44s\n"
     ]
    }
   ],
   "source": [
    "%%time\n",
    "DT = DecisionTreeClassifier(criterion='entropy',random_state=0)\n",
    "DF_DT = treinar_modelo(\"DT\", DT,X_rus_res, y_rus_res, X_nm_res, y_nm_res, X_oss_res, y_oss_res, X_ros_res, y_ros_res, X_smote_res, y_smote_res)"
   ]
  },
  {
   "cell_type": "markdown",
   "metadata": {},
   "source": [
    "## Random Forest"
   ]
  },
  {
   "cell_type": "code",
   "execution_count": 22,
   "metadata": {
    "ExecuteTime": {
     "end_time": "2023-12-26T18:54:52.851262Z",
     "start_time": "2023-12-26T18:44:08.772880Z"
    }
   },
   "outputs": [
    {
     "name": "stdout",
     "output_type": "stream",
     "text": [
      "###################\n",
      "Random Undersampler\n",
      "Accuracy:  89.20481927710844\n",
      "F1-Score:  88.40579710144928\n",
      "MCC:  78.45716109170804\n",
      "Nota:  86.11839364292877\n",
      "###################\n",
      "NearMiss\n",
      "Accuracy:  98.16867469879517\n",
      "F1-Score:  98.10756972111552\n",
      "MCC:  96.34522504380325\n",
      "Nota:  97.68225979620738\n",
      "###################\n",
      "OneSidedSelection\n",
      "Accuracy:  98.7601111839845\n",
      "F1-Score:  32.597623089983024\n",
      "MCC:  43.66449955600958\n",
      "Nota:  51.904964229990036\n",
      "###################\n",
      "Random Oversampler\n",
      "Accuracy:  99.99920787059774\n",
      "F1-Score:  99.99920486621873\n",
      "MCC:  99.99841573112674\n",
      "Nota:  99.99900833354049\n",
      "###################\n",
      "SMOTE\n",
      "Accuracy:  99.80909681405554\n",
      "F1-Score:  99.80833923160732\n",
      "MCC:  99.61819318654345\n",
      "Nota:  99.76099211595341\n",
      "###################\n",
      "CPU times: user 10min 37s, sys: 902 ms, total: 10min 38s\n",
      "Wall time: 10min 49s\n"
     ]
    }
   ],
   "source": [
    "%%time\n",
    "RF = RandomForestClassifier(n_estimators=100,\n",
    "                            random_state=0,\n",
    "                            criterion='gini')\n",
    "DF_RF= treinar_modelo(\"RF\",RF,X_rus_res, y_rus_res, X_nm_res, y_nm_res, X_oss_res, y_oss_res, X_ros_res, y_ros_res, X_smote_res, y_smote_res)"
   ]
  },
  {
   "cell_type": "markdown",
   "metadata": {},
   "source": [
    "## Regressão Logística"
   ]
  },
  {
   "cell_type": "code",
   "execution_count": 23,
   "metadata": {
    "ExecuteTime": {
     "end_time": "2023-12-26T18:55:11.961802Z",
     "start_time": "2023-12-26T18:54:52.867255Z"
    }
   },
   "outputs": [
    {
     "name": "stdout",
     "output_type": "stream",
     "text": [
      "###################\n",
      "Random Undersampler\n",
      "Accuracy:  88.48192771084338\n",
      "F1-Score:  87.78742973939703\n",
      "MCC:  76.93976420161135\n",
      "Nota:  85.2491378478122\n",
      "###################\n",
      "NearMiss\n",
      "Accuracy:  96.67469879518073\n",
      "F1-Score:  96.49568308786188\n",
      "MCC:  93.35587524017868\n",
      "Nota:  95.75548505277078\n",
      "###################\n",
      "OneSidedSelection\n",
      "Accuracy:  98.94437677628908\n",
      "F1-Score:  49.6274217585693\n",
      "MCC:  55.76360579653367\n",
      "Nota:  63.49070652249034\n",
      "###################\n",
      "Random Oversampler\n",
      "Accuracy:  90.81288319259835\n",
      "F1-Score:  90.56229148018554\n",
      "MCC:  81.7071047966614\n",
      "Nota:  88.4111427374077\n",
      "###################\n",
      "SMOTE\n",
      "Accuracy:  91.97414489631026\n",
      "F1-Score:  91.82111721020343\n",
      "MCC:  83.98367245406322\n",
      "Nota:  89.9000129426951\n",
      "###################\n",
      "CPU times: user 2min 6s, sys: 55.5 s, total: 3min 2s\n",
      "Wall time: 21.1 s\n"
     ]
    }
   ],
   "source": [
    "%%time\n",
    "RL = LogisticRegression(random_state=1, max_iter=500)\n",
    "DF_RL=treinar_modelo(\"RL\",RL,X_rus_res, y_rus_res, X_nm_res, y_nm_res, X_oss_res, y_oss_res, X_ros_res, y_ros_res, X_smote_res, y_smote_res)"
   ]
  },
  {
   "cell_type": "markdown",
   "metadata": {},
   "source": [
    "## SVM"
   ]
  },
  {
   "cell_type": "code",
   "execution_count": 24,
   "metadata": {
    "ExecuteTime": {
     "start_time": "2023-12-26T18:55:11.967866Z"
    },
    "is_executing": true
   },
   "outputs": [
    {
     "name": "stdout",
     "output_type": "stream",
     "text": [
      "###################\n",
      "Random Undersampler\n",
      "Accuracy:  89.63855421686748\n",
      "F1-Score:  88.96870189840944\n",
      "MCC:  79.27794152532847\n",
      "Nota:  86.7134748847537\n",
      "###################\n",
      "NearMiss\n",
      "Accuracy:  97.25301204819277\n",
      "F1-Score:  97.13998996487707\n",
      "MCC:  94.49747616730116\n",
      "Nota:  96.50761703631203\n",
      "###################\n",
      "OneSidedSelection\n",
      "Accuracy:  99.09741091227085\n",
      "F1-Score:  60.02766251728908\n",
      "MCC:  64.03883729669599\n",
      "Nota:  70.79789331088625\n",
      "###################\n",
      "Random Oversampler\n",
      "Accuracy:  91.55906908952647\n",
      "F1-Score:  91.29824102957748\n",
      "MCC:  83.22883130137903\n",
      "Nota:  89.34609561251511\n",
      "###################\n",
      "SMOTE\n",
      "Accuracy:  92.65379192344861\n",
      "F1-Score:  92.49906986525178\n",
      "MCC:  85.35394082396745\n",
      "Nota:  90.7514681194799\n",
      "###################\n",
      "CPU times: user 1h 55min 45s, sys: 14.7 s, total: 1h 55min 59s\n",
      "Wall time: 4h 8min 9s\n"
     ]
    }
   ],
   "source": [
    "%%time\n",
    "SVM_bow = SVC(kernel=\"linear\",\n",
    "              random_state=1,\n",
    "              C=2.0)\n",
    "DF_SVC=treinar_modelo(\"SVC\",SVM_bow,X_rus_res, y_rus_res, X_nm_res, y_nm_res, X_oss_res, y_oss_res, X_ros_res, y_ros_res, X_smote_res, y_smote_res)"
   ]
  },
  {
   "cell_type": "markdown",
   "metadata": {},
   "source": [
    "## Rede Neural"
   ]
  },
  {
   "cell_type": "code",
   "execution_count": 25,
   "metadata": {
    "is_executing": true
   },
   "outputs": [
    {
     "name": "stdout",
     "output_type": "stream",
     "text": [
      "###################\n",
      "Random Undersampler\n",
      "Accuracy:  91.42168674698794\n",
      "F1-Score:  91.23152709359604\n",
      "MCC:  82.89669474720993\n",
      "Nota:  89.1953589203475\n",
      "###################\n",
      "NearMiss\n",
      "Accuracy:  97.63855421686746\n",
      "F1-Score:  97.5413948820873\n",
      "MCC:  95.26976675382699\n",
      "Nota:  96.99777768371726\n",
      "###################\n",
      "OneSidedSelection\n",
      "Accuracy:  99.27074549486242\n",
      "F1-Score:  76.47355163727958\n",
      "MCC:  76.10609145403356\n",
      "Nota:  82.08098505586379\n",
      "###################\n",
      "Random Oversampler\n",
      "Accuracy:  99.31163954943679\n",
      "F1-Score:  99.3117758400849\n",
      "MCC:  98.62643234504814\n",
      "Nota:  99.1404058936637\n",
      "###################\n",
      "SMOTE\n",
      "Accuracy:  99.64750241599468\n",
      "F1-Score:  99.64702429583329\n",
      "MCC:  99.29618214702758\n",
      "Nota:  99.55943328867221\n",
      "###################\n",
      "CPU times: user 2h 42min 3s, sys: 6min 10s, total: 2h 48min 13s\n",
      "Wall time: 14min 49s\n"
     ]
    }
   ],
   "source": [
    "%%time\n",
    "rede_neural = MLPClassifier(random_state=1,\n",
    "                            tol=0.00000000001,\n",
    "                            max_iter=1500,\n",
    "                            hidden_layer_sizes=(64,64,64),\n",
    "                            activation='tanh',\n",
    "                            solver='adam',\n",
    "                            verbose=False)\n",
    "DF_NN=treinar_modelo(\"NN\",rede_neural,X_rus_res, y_rus_res, X_nm_res, y_nm_res, X_oss_res, y_oss_res, X_ros_res, y_ros_res, X_smote_res, y_smote_res)"
   ]
  },
  {
   "cell_type": "code",
   "execution_count": 26,
   "metadata": {
    "is_executing": true
   },
   "outputs": [
    {
     "data": {
      "text/html": [
       "<div>\n",
       "<style scoped>\n",
       "    .dataframe tbody tr th:only-of-type {\n",
       "        vertical-align: middle;\n",
       "    }\n",
       "\n",
       "    .dataframe tbody tr th {\n",
       "        vertical-align: top;\n",
       "    }\n",
       "\n",
       "    .dataframe thead th {\n",
       "        text-align: right;\n",
       "    }\n",
       "</style>\n",
       "<table border=\"1\" class=\"dataframe\">\n",
       "  <thead>\n",
       "    <tr style=\"text-align: right;\">\n",
       "      <th></th>\n",
       "      <th>Accuracy</th>\n",
       "      <th>F1-Score</th>\n",
       "      <th>MCC</th>\n",
       "      <th>Nota</th>\n",
       "      <th>Tecnica</th>\n",
       "      <th>Modelo</th>\n",
       "      <th>Metodo</th>\n",
       "    </tr>\n",
       "  </thead>\n",
       "  <tbody>\n",
       "    <tr>\n",
       "      <th>0</th>\n",
       "      <td>85.686747</td>\n",
       "      <td>86.166744</td>\n",
       "      <td>72.302557</td>\n",
       "      <td>82.580698</td>\n",
       "      <td>Random Undersampler</td>\n",
       "      <td>KNN</td>\n",
       "      <td>DOC2VEC</td>\n",
       "    </tr>\n",
       "    <tr>\n",
       "      <th>1</th>\n",
       "      <td>94.313253</td>\n",
       "      <td>93.703308</td>\n",
       "      <td>89.141766</td>\n",
       "      <td>92.715409</td>\n",
       "      <td>NearMiss</td>\n",
       "      <td>KNN</td>\n",
       "      <td>DOC2VEC</td>\n",
       "    </tr>\n",
       "    <tr>\n",
       "      <th>2</th>\n",
       "      <td>99.033386</td>\n",
       "      <td>56.439127</td>\n",
       "      <td>60.802520</td>\n",
       "      <td>68.178540</td>\n",
       "      <td>OneSidedSelection</td>\n",
       "      <td>KNN</td>\n",
       "      <td>DOC2VEC</td>\n",
       "    </tr>\n",
       "    <tr>\n",
       "      <th>3</th>\n",
       "      <td>98.726256</td>\n",
       "      <td>98.737556</td>\n",
       "      <td>97.484353</td>\n",
       "      <td>98.421430</td>\n",
       "      <td>Random Oversampler</td>\n",
       "      <td>KNN</td>\n",
       "      <td>DOC2VEC</td>\n",
       "    </tr>\n",
       "    <tr>\n",
       "      <th>4</th>\n",
       "      <td>91.763438</td>\n",
       "      <td>92.363508</td>\n",
       "      <td>84.692518</td>\n",
       "      <td>90.295743</td>\n",
       "      <td>SMOTE</td>\n",
       "      <td>KNN</td>\n",
       "      <td>DOC2VEC</td>\n",
       "    </tr>\n",
       "    <tr>\n",
       "      <th>0</th>\n",
       "      <td>78.265060</td>\n",
       "      <td>77.881314</td>\n",
       "      <td>56.597416</td>\n",
       "      <td>72.656276</td>\n",
       "      <td>Random Undersampler</td>\n",
       "      <td>DT</td>\n",
       "      <td>DOC2VEC</td>\n",
       "    </tr>\n",
       "    <tr>\n",
       "      <th>1</th>\n",
       "      <td>95.180723</td>\n",
       "      <td>95.000000</td>\n",
       "      <td>90.351674</td>\n",
       "      <td>93.883099</td>\n",
       "      <td>NearMiss</td>\n",
       "      <td>DT</td>\n",
       "      <td>DOC2VEC</td>\n",
       "    </tr>\n",
       "    <tr>\n",
       "      <th>2</th>\n",
       "      <td>98.008995</td>\n",
       "      <td>39.140811</td>\n",
       "      <td>38.205148</td>\n",
       "      <td>53.623941</td>\n",
       "      <td>OneSidedSelection</td>\n",
       "      <td>DT</td>\n",
       "      <td>DOC2VEC</td>\n",
       "    </tr>\n",
       "    <tr>\n",
       "      <th>3</th>\n",
       "      <td>99.354415</td>\n",
       "      <td>99.356133</td>\n",
       "      <td>98.717102</td>\n",
       "      <td>99.195946</td>\n",
       "      <td>Random Oversampler</td>\n",
       "      <td>DT</td>\n",
       "      <td>DOC2VEC</td>\n",
       "    </tr>\n",
       "    <tr>\n",
       "      <th>4</th>\n",
       "      <td>96.374424</td>\n",
       "      <td>96.412475</td>\n",
       "      <td>92.787978</td>\n",
       "      <td>95.496838</td>\n",
       "      <td>SMOTE</td>\n",
       "      <td>DT</td>\n",
       "      <td>DOC2VEC</td>\n",
       "    </tr>\n",
       "    <tr>\n",
       "      <th>0</th>\n",
       "      <td>89.204819</td>\n",
       "      <td>88.405797</td>\n",
       "      <td>78.457161</td>\n",
       "      <td>86.118394</td>\n",
       "      <td>Random Undersampler</td>\n",
       "      <td>RF</td>\n",
       "      <td>DOC2VEC</td>\n",
       "    </tr>\n",
       "    <tr>\n",
       "      <th>1</th>\n",
       "      <td>98.168675</td>\n",
       "      <td>98.107570</td>\n",
       "      <td>96.345225</td>\n",
       "      <td>97.682260</td>\n",
       "      <td>NearMiss</td>\n",
       "      <td>RF</td>\n",
       "      <td>DOC2VEC</td>\n",
       "    </tr>\n",
       "    <tr>\n",
       "      <th>2</th>\n",
       "      <td>98.760111</td>\n",
       "      <td>32.597623</td>\n",
       "      <td>43.664500</td>\n",
       "      <td>51.904964</td>\n",
       "      <td>OneSidedSelection</td>\n",
       "      <td>RF</td>\n",
       "      <td>DOC2VEC</td>\n",
       "    </tr>\n",
       "    <tr>\n",
       "      <th>3</th>\n",
       "      <td>99.999208</td>\n",
       "      <td>99.999205</td>\n",
       "      <td>99.998416</td>\n",
       "      <td>99.999008</td>\n",
       "      <td>Random Oversampler</td>\n",
       "      <td>RF</td>\n",
       "      <td>DOC2VEC</td>\n",
       "    </tr>\n",
       "    <tr>\n",
       "      <th>4</th>\n",
       "      <td>99.809097</td>\n",
       "      <td>99.808339</td>\n",
       "      <td>99.618193</td>\n",
       "      <td>99.760992</td>\n",
       "      <td>SMOTE</td>\n",
       "      <td>RF</td>\n",
       "      <td>DOC2VEC</td>\n",
       "    </tr>\n",
       "    <tr>\n",
       "      <th>0</th>\n",
       "      <td>88.481928</td>\n",
       "      <td>87.787430</td>\n",
       "      <td>76.939764</td>\n",
       "      <td>85.249138</td>\n",
       "      <td>Random Undersampler</td>\n",
       "      <td>RL</td>\n",
       "      <td>DOC2VEC</td>\n",
       "    </tr>\n",
       "    <tr>\n",
       "      <th>1</th>\n",
       "      <td>96.674699</td>\n",
       "      <td>96.495683</td>\n",
       "      <td>93.355875</td>\n",
       "      <td>95.755485</td>\n",
       "      <td>NearMiss</td>\n",
       "      <td>RL</td>\n",
       "      <td>DOC2VEC</td>\n",
       "    </tr>\n",
       "    <tr>\n",
       "      <th>2</th>\n",
       "      <td>98.944377</td>\n",
       "      <td>49.627422</td>\n",
       "      <td>55.763606</td>\n",
       "      <td>63.490707</td>\n",
       "      <td>OneSidedSelection</td>\n",
       "      <td>RL</td>\n",
       "      <td>DOC2VEC</td>\n",
       "    </tr>\n",
       "    <tr>\n",
       "      <th>3</th>\n",
       "      <td>90.812883</td>\n",
       "      <td>90.562291</td>\n",
       "      <td>81.707105</td>\n",
       "      <td>88.411143</td>\n",
       "      <td>Random Oversampler</td>\n",
       "      <td>RL</td>\n",
       "      <td>DOC2VEC</td>\n",
       "    </tr>\n",
       "    <tr>\n",
       "      <th>4</th>\n",
       "      <td>91.974145</td>\n",
       "      <td>91.821117</td>\n",
       "      <td>83.983672</td>\n",
       "      <td>89.900013</td>\n",
       "      <td>SMOTE</td>\n",
       "      <td>RL</td>\n",
       "      <td>DOC2VEC</td>\n",
       "    </tr>\n",
       "    <tr>\n",
       "      <th>0</th>\n",
       "      <td>89.638554</td>\n",
       "      <td>88.968702</td>\n",
       "      <td>79.277942</td>\n",
       "      <td>86.713475</td>\n",
       "      <td>Random Undersampler</td>\n",
       "      <td>SVC</td>\n",
       "      <td>DOC2VEC</td>\n",
       "    </tr>\n",
       "    <tr>\n",
       "      <th>1</th>\n",
       "      <td>97.253012</td>\n",
       "      <td>97.139990</td>\n",
       "      <td>94.497476</td>\n",
       "      <td>96.507617</td>\n",
       "      <td>NearMiss</td>\n",
       "      <td>SVC</td>\n",
       "      <td>DOC2VEC</td>\n",
       "    </tr>\n",
       "    <tr>\n",
       "      <th>2</th>\n",
       "      <td>99.097411</td>\n",
       "      <td>60.027663</td>\n",
       "      <td>64.038837</td>\n",
       "      <td>70.797893</td>\n",
       "      <td>OneSidedSelection</td>\n",
       "      <td>SVC</td>\n",
       "      <td>DOC2VEC</td>\n",
       "    </tr>\n",
       "    <tr>\n",
       "      <th>3</th>\n",
       "      <td>91.559069</td>\n",
       "      <td>91.298241</td>\n",
       "      <td>83.228831</td>\n",
       "      <td>89.346096</td>\n",
       "      <td>Random Oversampler</td>\n",
       "      <td>SVC</td>\n",
       "      <td>DOC2VEC</td>\n",
       "    </tr>\n",
       "    <tr>\n",
       "      <th>4</th>\n",
       "      <td>92.653792</td>\n",
       "      <td>92.499070</td>\n",
       "      <td>85.353941</td>\n",
       "      <td>90.751468</td>\n",
       "      <td>SMOTE</td>\n",
       "      <td>SVC</td>\n",
       "      <td>DOC2VEC</td>\n",
       "    </tr>\n",
       "    <tr>\n",
       "      <th>0</th>\n",
       "      <td>91.421687</td>\n",
       "      <td>91.231527</td>\n",
       "      <td>82.896695</td>\n",
       "      <td>89.195359</td>\n",
       "      <td>Random Undersampler</td>\n",
       "      <td>NN</td>\n",
       "      <td>DOC2VEC</td>\n",
       "    </tr>\n",
       "    <tr>\n",
       "      <th>1</th>\n",
       "      <td>97.638554</td>\n",
       "      <td>97.541395</td>\n",
       "      <td>95.269767</td>\n",
       "      <td>96.997778</td>\n",
       "      <td>NearMiss</td>\n",
       "      <td>NN</td>\n",
       "      <td>DOC2VEC</td>\n",
       "    </tr>\n",
       "    <tr>\n",
       "      <th>2</th>\n",
       "      <td>99.270745</td>\n",
       "      <td>76.473552</td>\n",
       "      <td>76.106091</td>\n",
       "      <td>82.080985</td>\n",
       "      <td>OneSidedSelection</td>\n",
       "      <td>NN</td>\n",
       "      <td>DOC2VEC</td>\n",
       "    </tr>\n",
       "    <tr>\n",
       "      <th>3</th>\n",
       "      <td>99.311640</td>\n",
       "      <td>99.311776</td>\n",
       "      <td>98.626432</td>\n",
       "      <td>99.140406</td>\n",
       "      <td>Random Oversampler</td>\n",
       "      <td>NN</td>\n",
       "      <td>DOC2VEC</td>\n",
       "    </tr>\n",
       "    <tr>\n",
       "      <th>4</th>\n",
       "      <td>99.647502</td>\n",
       "      <td>99.647024</td>\n",
       "      <td>99.296182</td>\n",
       "      <td>99.559433</td>\n",
       "      <td>SMOTE</td>\n",
       "      <td>NN</td>\n",
       "      <td>DOC2VEC</td>\n",
       "    </tr>\n",
       "  </tbody>\n",
       "</table>\n",
       "</div>"
      ],
      "text/plain": [
       "    Accuracy   F1-Score        MCC       Nota              Tecnica Modelo  \\\n",
       "0  85.686747  86.166744  72.302557  82.580698  Random Undersampler    KNN   \n",
       "1  94.313253  93.703308  89.141766  92.715409             NearMiss    KNN   \n",
       "2  99.033386  56.439127  60.802520  68.178540    OneSidedSelection    KNN   \n",
       "3  98.726256  98.737556  97.484353  98.421430   Random Oversampler    KNN   \n",
       "4  91.763438  92.363508  84.692518  90.295743                SMOTE    KNN   \n",
       "0  78.265060  77.881314  56.597416  72.656276  Random Undersampler     DT   \n",
       "1  95.180723  95.000000  90.351674  93.883099             NearMiss     DT   \n",
       "2  98.008995  39.140811  38.205148  53.623941    OneSidedSelection     DT   \n",
       "3  99.354415  99.356133  98.717102  99.195946   Random Oversampler     DT   \n",
       "4  96.374424  96.412475  92.787978  95.496838                SMOTE     DT   \n",
       "0  89.204819  88.405797  78.457161  86.118394  Random Undersampler     RF   \n",
       "1  98.168675  98.107570  96.345225  97.682260             NearMiss     RF   \n",
       "2  98.760111  32.597623  43.664500  51.904964    OneSidedSelection     RF   \n",
       "3  99.999208  99.999205  99.998416  99.999008   Random Oversampler     RF   \n",
       "4  99.809097  99.808339  99.618193  99.760992                SMOTE     RF   \n",
       "0  88.481928  87.787430  76.939764  85.249138  Random Undersampler     RL   \n",
       "1  96.674699  96.495683  93.355875  95.755485             NearMiss     RL   \n",
       "2  98.944377  49.627422  55.763606  63.490707    OneSidedSelection     RL   \n",
       "3  90.812883  90.562291  81.707105  88.411143   Random Oversampler     RL   \n",
       "4  91.974145  91.821117  83.983672  89.900013                SMOTE     RL   \n",
       "0  89.638554  88.968702  79.277942  86.713475  Random Undersampler    SVC   \n",
       "1  97.253012  97.139990  94.497476  96.507617             NearMiss    SVC   \n",
       "2  99.097411  60.027663  64.038837  70.797893    OneSidedSelection    SVC   \n",
       "3  91.559069  91.298241  83.228831  89.346096   Random Oversampler    SVC   \n",
       "4  92.653792  92.499070  85.353941  90.751468                SMOTE    SVC   \n",
       "0  91.421687  91.231527  82.896695  89.195359  Random Undersampler     NN   \n",
       "1  97.638554  97.541395  95.269767  96.997778             NearMiss     NN   \n",
       "2  99.270745  76.473552  76.106091  82.080985    OneSidedSelection     NN   \n",
       "3  99.311640  99.311776  98.626432  99.140406   Random Oversampler     NN   \n",
       "4  99.647502  99.647024  99.296182  99.559433                SMOTE     NN   \n",
       "\n",
       "    Metodo  \n",
       "0  DOC2VEC  \n",
       "1  DOC2VEC  \n",
       "2  DOC2VEC  \n",
       "3  DOC2VEC  \n",
       "4  DOC2VEC  \n",
       "0  DOC2VEC  \n",
       "1  DOC2VEC  \n",
       "2  DOC2VEC  \n",
       "3  DOC2VEC  \n",
       "4  DOC2VEC  \n",
       "0  DOC2VEC  \n",
       "1  DOC2VEC  \n",
       "2  DOC2VEC  \n",
       "3  DOC2VEC  \n",
       "4  DOC2VEC  \n",
       "0  DOC2VEC  \n",
       "1  DOC2VEC  \n",
       "2  DOC2VEC  \n",
       "3  DOC2VEC  \n",
       "4  DOC2VEC  \n",
       "0  DOC2VEC  \n",
       "1  DOC2VEC  \n",
       "2  DOC2VEC  \n",
       "3  DOC2VEC  \n",
       "4  DOC2VEC  \n",
       "0  DOC2VEC  \n",
       "1  DOC2VEC  \n",
       "2  DOC2VEC  \n",
       "3  DOC2VEC  \n",
       "4  DOC2VEC  "
      ]
     },
     "execution_count": 26,
     "metadata": {},
     "output_type": "execute_result"
    }
   ],
   "source": [
    "df_resultados_concatenados = pd.concat([DF_KNN, DF_DT, DF_RF, DF_RL, DF_SVC, DF_NN])\n",
    "df_resultados_concatenados['Metodo'] = 'DOC2VEC'\n",
    "df_resultados_concatenados.to_csv(\"resultados_concatenados_com_doc2vec.csv\", index=False)\n",
    "df_resultados_concatenados"
   ]
  },
  {
   "cell_type": "code",
   "execution_count": null,
   "metadata": {
    "is_executing": true
   },
   "outputs": [],
   "source": []
  }
 ],
 "metadata": {
  "kernelspec": {
   "display_name": "base",
   "language": "python",
   "name": "python3"
  },
  "language_info": {
   "codemirror_mode": {
    "name": "ipython",
    "version": 3
   },
   "file_extension": ".py",
   "mimetype": "text/x-python",
   "name": "python",
   "nbconvert_exporter": "python",
   "pygments_lexer": "ipython3",
   "version": "3.1.0"
  }
 },
 "nbformat": 4,
 "nbformat_minor": 2
}
