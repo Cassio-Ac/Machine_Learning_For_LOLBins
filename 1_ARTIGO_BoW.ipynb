{
 "cells": [
  {
   "cell_type": "markdown",
   "metadata": {},
   "source": [
    "# Melhoria no tratamento de dados"
   ]
  },
  {
   "cell_type": "code",
   "execution_count": 1,
   "metadata": {
    "trusted": false,
    "ExecuteTime": {
     "end_time": "2024-03-11T14:36:09.374142Z",
     "start_time": "2024-03-11T14:36:09.350620Z"
    }
   },
   "outputs": [
    {
     "data": {
      "text/plain": "'\\n!pip uninstall -y scikit-learn\\n!pip install scikit-learn==1.2.2\\n'"
     },
     "execution_count": 1,
     "metadata": {},
     "output_type": "execute_result"
    }
   ],
   "source": [
    "'''\n",
    "!pip uninstall -y scikit-learn\n",
    "!pip install scikit-learn==1.2.2\n",
    "'''\n"
   ]
  },
  {
   "cell_type": "markdown",
   "source": [
    "Importação de bibliotecas importantes"
   ],
   "metadata": {
    "collapsed": false
   }
  },
  {
   "cell_type": "code",
   "execution_count": 2,
   "metadata": {
    "trusted": false,
    "ExecuteTime": {
     "end_time": "2024-03-11T14:36:17.728472Z",
     "start_time": "2024-03-11T14:36:11.105137Z"
    }
   },
   "outputs": [],
   "source": [
    "import re\n",
    "from textacy.preprocessing.replace import emails, urls\n",
    "from textacy.preprocessing.normalize import quotation_marks\n",
    "from imblearn.under_sampling import RandomUnderSampler, NearMiss, OneSidedSelection\n",
    "from imblearn.over_sampling import RandomOverSampler, SMOTE\n",
    "import numpy as np\n",
    "from sklearn.metrics import matthews_corrcoef, make_scorer, f1_score, accuracy_score\n",
    "from sklearn.model_selection import cross_val_score, cross_validate\n",
    "from sklearn.model_selection import train_test_split\n",
    "\n",
    "\n",
    "\n",
    "# Importação dos algoritmos de ML \n",
    "\n",
    "from sklearn.tree import DecisionTreeClassifier\n",
    "from sklearn.ensemble import RandomForestClassifier\n",
    "from sklearn.neighbors import KNeighborsClassifier\n",
    "from sklearn.linear_model import LogisticRegression\n",
    "from sklearn.svm import SVC\n",
    "from sklearn.neural_network import MLPClassifier"
   ]
  },
  {
   "cell_type": "markdown",
   "source": [
    "Criação da função de tratamento de texto"
   ],
   "metadata": {
    "collapsed": false
   }
  },
  {
   "cell_type": "code",
   "execution_count": 3,
   "metadata": {
    "trusted": false,
    "ExecuteTime": {
     "end_time": "2024-03-11T14:37:16.855831Z",
     "start_time": "2024-03-11T14:37:16.721597Z"
    }
   },
   "outputs": [],
   "source": [
    "def replace_quoted_string(text):\n",
    "    \"\"\"\n",
    "    Substitui tudo que está entre aspas por _STRING_\n",
    "    \"\"\"\n",
    "    return re.sub(r\"\\\"(.+?)\\\"|\\'(.+?)\\'\", \"_STRING_\", text)\n",
    "\n",
    "def replace_file_path(text):\n",
    "    \"\"\"Replace file name or directory name with _PATH_\n",
    "    \"\"\"\n",
    "    #return re.sub(r\"(~)*(/[^/ ]*)+\", \"_PATH_\", text) # ((?:[^/]*/)*)(.*)\n",
    "    return re.sub(r\"((?<= )[^ ]*/)([^/ ]*)\", r\"_PATH_/\\2\", text) # Modificado para substituir apenas o diretório não o arquivo final\n",
    "\n",
    "def replace_env_variables(text):\n",
    "    \"\"\"Replace $String with $_ENV and String= with _ENV_=.\n",
    "    \"\"\"\n",
    "    text = re.sub(r\"\\$([A-Za-z_][A-Za-z0-9_]*)\", r\"$_ENV\", text)\n",
    "    text = re.sub(r\"([A-Za-z_][A-Za-z0-9_]*)=\", r\"_ENV_=\", text)\n",
    "    return text\n",
    "\n",
    "def replace_ip_address(text):\n",
    "    \"\"\"Replace IPv4 with _IP_\n",
    "    \"\"\"\n",
    "    return re.sub(\"[0-9]+(?:\\.[0-9]+){3}\", \"_IP_\", text)\n",
    "\n",
    "def refine_pipe(text):\n",
    "    \"\"\"Make clear seperation between different commands in pipe.\n",
    "    E.g.: cmd1|cmd2 -> cmd1 | cmd2\n",
    "    \"\"\"\n",
    "    return text.replace(\"|\", \" | \")\n",
    "\n",
    "def normalize(line):\n",
    "   \n",
    "    # convert to lowercase\n",
    "    line = line.lower()\n",
    "    \n",
    "    # Replace $String with $_ENV and String= with _ENV_=\n",
    "    line = replace_env_variables(line)\n",
    "\n",
    "    # normalize quoted mark\n",
    "    line = quotation_marks(line) #Função do TEXTACY\n",
    "\n",
    "    # refine pipe operator\n",
    "    line = refine_pipe(line)\n",
    "\n",
    "    # replace quoted text by _STRING_\n",
    "    line = replace_quoted_string(line)\n",
    "\n",
    "    # replace IP adress by '_IP_' token\n",
    "    line = replace_ip_address(line)\n",
    "\n",
    "    # replace file path by '_PATH_' token\n",
    "    line = replace_file_path(line)\n",
    "\n",
    "    # replace email by '_EMAIL_' token\n",
    "    line = emails(line, \"_EMAIL_\") #Função do TEXTACY\n",
    "\n",
    "    # replace URL by '_URL_' token\n",
    "    line = urls(line, \"_URL_\") #Função do TEXTACY\n",
    "    \n",
    "    return line\n"
   ]
  },
  {
   "cell_type": "markdown",
   "metadata": {},
   "source": [
    "# Leitura dos dados do GTFOBins \n",
    "\n",
    "https://gtfobins.github.io/gtfobins.json"
   ]
  },
  {
   "cell_type": "code",
   "execution_count": 4,
   "metadata": {
    "trusted": false,
    "ExecuteTime": {
     "end_time": "2024-03-11T14:37:30.227235Z",
     "start_time": "2024-03-11T14:37:28.750600Z"
    }
   },
   "outputs": [],
   "source": [
    "import numpy as np # linear algebra\n",
    "import pandas as pd # data processing, CSV file I/O (e.g. pd.read_csv)\n",
    "import os\n",
    "from pprint import pprint"
   ]
  },
  {
   "cell_type": "code",
   "execution_count": 5,
   "metadata": {
    "trusted": false,
    "ExecuteTime": {
     "end_time": "2024-03-11T14:37:35.518509Z",
     "start_time": "2024-03-11T14:37:34.283593Z"
    }
   },
   "outputs": [
    {
     "data": {
      "text/plain": "                                               description  \\\n7z                                                    None   \naa-exec                                               None   \nab                                                    None   \nagetty                                                None   \nalpine   The file is displayed in the `alpine` curses t...   \n\n                                                 functions  \n7z       {'file-read': [{'code': 'LFILE=file_to_read\n7z...  \naa-exec  {'shell': [{'code': 'aa-exec /bin/sh'}], 'suid...  \nab       {'file-upload': [{'description': 'Upload local...  \nagetty   {'suid': [{'code': './agetty -o -p -l /bin/sh ...  \nalpine   {'file-read': [{'code': 'LFILE=file_to_read\nal...  ",
      "text/html": "<div>\n<style scoped>\n    .dataframe tbody tr th:only-of-type {\n        vertical-align: middle;\n    }\n\n    .dataframe tbody tr th {\n        vertical-align: top;\n    }\n\n    .dataframe thead th {\n        text-align: right;\n    }\n</style>\n<table border=\"1\" class=\"dataframe\">\n  <thead>\n    <tr style=\"text-align: right;\">\n      <th></th>\n      <th>description</th>\n      <th>functions</th>\n    </tr>\n  </thead>\n  <tbody>\n    <tr>\n      <th>7z</th>\n      <td>None</td>\n      <td>{'file-read': [{'code': 'LFILE=file_to_read\n7z...</td>\n    </tr>\n    <tr>\n      <th>aa-exec</th>\n      <td>None</td>\n      <td>{'shell': [{'code': 'aa-exec /bin/sh'}], 'suid...</td>\n    </tr>\n    <tr>\n      <th>ab</th>\n      <td>None</td>\n      <td>{'file-upload': [{'description': 'Upload local...</td>\n    </tr>\n    <tr>\n      <th>agetty</th>\n      <td>None</td>\n      <td>{'suid': [{'code': './agetty -o -p -l /bin/sh ...</td>\n    </tr>\n    <tr>\n      <th>alpine</th>\n      <td>The file is displayed in the `alpine` curses t...</td>\n      <td>{'file-read': [{'code': 'LFILE=file_to_read\nal...</td>\n    </tr>\n  </tbody>\n</table>\n</div>"
     },
     "execution_count": 5,
     "metadata": {},
     "output_type": "execute_result"
    }
   ],
   "source": [
    "gtfo_df = pd.read_json('https://gtfobins.github.io/gtfobins.json')\n",
    "gtfo_df.T.head(5)"
   ]
  },
  {
   "cell_type": "markdown",
   "source": [
    "A lista de GTFOBins traz os comandos em uma linha só com `\\n` para realizar a quebra de linha. "
   ],
   "metadata": {
    "collapsed": false
   }
  },
  {
   "cell_type": "code",
   "execution_count": 6,
   "metadata": {
    "trusted": false,
    "ExecuteTime": {
     "end_time": "2024-03-11T14:39:30.089738Z",
     "start_time": "2024-03-11T14:39:30.072841Z"
    }
   },
   "outputs": [
    {
     "data": {
      "text/plain": "['LFILE=file_to_read\\nalpine -F \"$LFILE\"\\n',\n 'LFILE=file_to_read\\n./alpine -F \"$LFILE\"\\n',\n 'LFILE=file_to_read\\nsudo alpine -F \"$LFILE\"\\n',\n \"TF=$(mktemp)\\necho '[{hosts: localhost, tasks: [shell: /bin/sh </dev/tty >/dev/tty 2>/dev/tty]}]' >$TF\\nansible-playbook $TF\\n\",\n \"TF=$(mktemp)\\necho '[{hosts: localhost, tasks: [shell: /bin/sh </dev/tty >/dev/tty 2>/dev/tty]}]' >$TF\\nsudo ansible-playbook $TF\\n\",\n 'ansible-test shell',\n 'sudo ansible-test shell',\n 'aoss /bin/sh',\n 'sudo aoss /bin/sh',\n 'LFILE=file_to_read\\napache2ctl -c \"Include $LFILE\" -k stop\\n']"
     },
     "execution_count": 6,
     "metadata": {},
     "output_type": "execute_result"
    }
   ],
   "source": [
    "gtfo_list = []\n",
    "for function in gtfo_df.T.functions:\n",
    "    for keys in function:\n",
    "        for i in function[keys]:\n",
    "            for chave in i:\n",
    "                if chave == 'code':\n",
    "                    gtfo_list.append(i[chave])                    \n",
    "gtfo_list[10:20]                   \n"
   ]
  },
  {
   "cell_type": "markdown",
   "metadata": {},
   "source": [
    "Tratamento dos `\\n`\n",
    "\n",
    "Ao fim, cada entrada receberá uma lista com os comandos já separados a cada quebra de linha. "
   ]
  },
  {
   "cell_type": "code",
   "execution_count": 11,
   "metadata": {
    "trusted": false,
    "ExecuteTime": {
     "end_time": "2024-03-11T14:41:44.117812Z",
     "start_time": "2024-03-11T14:41:44.003461Z"
    }
   },
   "outputs": [
    {
     "data": {
      "text/plain": "[['_ENV_=file_to_read',\n  'sudo 7z a -ttar -an -so $_ENV  |  7z e -ttar -si -so'],\n ['aa-exec _PATH_/sh'],\n ['./aa-exec _PATH_/sh -p'],\n ['sudo aa-exec _PATH_/sh']]"
     },
     "execution_count": 11,
     "metadata": {},
     "output_type": "execute_result"
    }
   ],
   "source": [
    "# Separando os comandos por \\n e criando uma lista de listas\n",
    "gfto_split = []\n",
    "for x in gtfo_list:\n",
    "    gfto_split.append(x.split('\\n'))\n",
    "\n",
    "# Normalizando os comandos com a função normalize()\n",
    "gtfo_norm = []\n",
    "for x in gfto_split:\n",
    "    a = []\n",
    "    for y in x:\n",
    "        a.append (normalize(y))\n",
    "    gtfo_norm.append(a)\n",
    "\n",
    "# Removendo itens vazios da lista\n",
    "for cmd in gtfo_norm:\n",
    "    for x in cmd:\n",
    "        if x == '':\n",
    "            cmd.remove(x)\n",
    "\n",
    "gtfo_norm[1:5]"
   ]
  },
  {
   "cell_type": "markdown",
   "metadata": {},
   "source": [
    "Verificando quantidade de comandos únicos. "
   ]
  },
  {
   "cell_type": "code",
   "execution_count": 12,
   "metadata": {
    "trusted": false,
    "ExecuteTime": {
     "end_time": "2024-03-11T14:42:05.373448Z",
     "start_time": "2024-03-11T14:42:05.342433Z"
    }
   },
   "outputs": [
    {
     "data": {
      "text/plain": "1667"
     },
     "execution_count": 12,
     "metadata": {},
     "output_type": "execute_result"
    }
   ],
   "source": [
    "lolbins_linux = []\n",
    "for cmd in gtfo_norm:\n",
    "    for x in cmd:\n",
    "        lolbins_linux.append(x)\n",
    "        \n",
    "\n",
    "lolbins_unique = list(set(lolbins_linux))\n",
    "len(lolbins_unique)"
   ]
  },
  {
   "cell_type": "markdown",
   "metadata": {},
   "source": [
    "# Leitura dos dados benignos"
   ]
  },
  {
   "cell_type": "code",
   "execution_count": 13,
   "metadata": {
    "trusted": false,
    "ExecuteTime": {
     "end_time": "2024-03-11T14:43:19.171675Z",
     "start_time": "2024-03-11T14:43:19.145650Z"
    }
   },
   "outputs": [],
   "source": [
    "data_path = \"./Datasets/\"\n",
    "bash_logs_path = data_path + \"bash_logs/\""
   ]
  },
  {
   "cell_type": "code",
   "execution_count": 14,
   "metadata": {
    "trusted": false,
    "ExecuteTime": {
     "end_time": "2024-03-11T14:43:31.489820Z",
     "start_time": "2024-03-11T14:43:21.944132Z"
    }
   },
   "outputs": [],
   "source": [
    "# read bash log data\n",
    "bash_file_names = os.listdir(bash_logs_path)\n",
    "benign_logs = []\n",
    "\n",
    "for file in bash_file_names:\n",
    "    with open(os.path.join(bash_logs_path, file)) as f:\n",
    "        benign_logs.append([normalize(line) for line in f.read()\n",
    "                           .replace(\"&&\", \"\\n\")\n",
    "                           .replace(\";\", \"\\n\")\n",
    "                           .splitlines()])"
   ]
  },
  {
   "cell_type": "code",
   "execution_count": 15,
   "metadata": {
    "trusted": false,
    "ExecuteTime": {
     "end_time": "2024-03-11T14:43:31.491591Z",
     "start_time": "2024-03-11T14:43:31.461439Z"
    }
   },
   "outputs": [
    {
     "name": "stdout",
     "output_type": "stream",
     "text": [
      "Comandos da Primeira sessão\n"
     ]
    },
    {
     "data": {
      "text/plain": "['w',\n 'ls',\n 'cd _PATH_/tmp',\n 'wget',\n 'ps ax',\n 'wget _PATH_/psybnc.tar.gz',\n 'tar xzvf psybnc.tar.gz',\n 'cd psybnc',\n 'make',\n './psybnc',\n 'ls',\n 'make',\n 'cd ..',\n 'wget _PATH_/psyl.tar.gz',\n 'tar xzvf psyl.tar.gz',\n 'cd .bash',\n './xinetd',\n 'ls',\n 'w',\n 'rm -rf _PATH_/log',\n 'cd _PATH_/home',\n 'ls',\n 'rm -rf .bash_history']"
     },
     "execution_count": 15,
     "metadata": {},
     "output_type": "execute_result"
    }
   ],
   "source": [
    "print (\"Comandos da Primeira sessão\")\n",
    "benign_logs[0]"
   ]
  },
  {
   "cell_type": "code",
   "execution_count": 16,
   "metadata": {
    "trusted": false,
    "ExecuteTime": {
     "end_time": "2024-03-11T14:43:31.863843Z",
     "start_time": "2024-03-11T14:43:31.834313Z"
    }
   },
   "outputs": [
    {
     "name": "stdout",
     "output_type": "stream",
     "text": [
      "54993\n"
     ]
    }
   ],
   "source": [
    "import itertools\n",
    "benign_unique = set(itertools.chain.from_iterable(benign_logs))\n",
    "print(len(benign_unique))"
   ]
  },
  {
   "cell_type": "code",
   "execution_count": 17,
   "metadata": {
    "trusted": false,
    "ExecuteTime": {
     "end_time": "2024-03-11T14:43:33.738588Z",
     "start_time": "2024-03-11T14:43:33.706893Z"
    }
   },
   "outputs": [],
   "source": [
    "while(\"\" in benign_unique):\n",
    "    benign_unique.remove(\"\")"
   ]
  },
  {
   "cell_type": "code",
   "execution_count": 18,
   "metadata": {
    "trusted": false,
    "ExecuteTime": {
     "end_time": "2024-03-11T14:43:35.020499Z",
     "start_time": "2024-03-11T14:43:34.968797Z"
    }
   },
   "outputs": [
    {
     "name": "stdout",
     "output_type": "stream",
     "text": [
      "54992\n"
     ]
    }
   ],
   "source": [
    "print(len(benign_unique))"
   ]
  },
  {
   "cell_type": "markdown",
   "metadata": {},
   "source": [
    "# Salvando os dados com JobLib"
   ]
  },
  {
   "cell_type": "markdown",
   "source": [
    "Salvando as bases de dados cruas para caso seja necessário retornar desse ponto."
   ],
   "metadata": {
    "collapsed": false
   }
  },
  {
   "cell_type": "code",
   "execution_count": 19,
   "metadata": {
    "trusted": false,
    "ExecuteTime": {
     "end_time": "2024-03-11T14:43:42.158319Z",
     "start_time": "2024-03-11T14:43:41.221374Z"
    }
   },
   "outputs": [
    {
     "data": {
      "text/plain": "['art_gtfo.z']"
     },
     "execution_count": 19,
     "metadata": {},
     "output_type": "execute_result"
    }
   ],
   "source": [
    "import joblib\n",
    "joblib.dump(benign_logs, \"art_benign.z\")\n",
    "joblib.dump(gtfo_norm, \"art_gtfo.z\")"
   ]
  },
  {
   "cell_type": "markdown",
   "metadata": {},
   "source": [
    "# Criação da base completa"
   ]
  },
  {
   "cell_type": "code",
   "execution_count": 20,
   "metadata": {
    "trusted": false,
    "ExecuteTime": {
     "end_time": "2024-03-11T14:45:33.083017Z",
     "start_time": "2024-03-11T14:45:33.022065Z"
    }
   },
   "outputs": [
    {
     "name": "stdout",
     "output_type": "stream",
     "text": [
      "210402 53091\n",
      "3457 1649\n"
     ]
    }
   ],
   "source": [
    "# create one-command flatten list of input\n",
    "\n",
    "benign_one_cmd = [cmd.strip() for sess in benign_logs for cmd in sess]\n",
    "gtfo_one_cmd = [cmd.strip() for sess in gtfo_norm for cmd in sess]\n",
    "\n",
    "unique_benign_one_cmd = set(benign_one_cmd)\n",
    "unique_gtfo_one_cmd = set(gtfo_one_cmd)\n",
    "\n",
    "print(len(benign_one_cmd), len(unique_benign_one_cmd))\n",
    "print(len(gtfo_one_cmd), len(unique_gtfo_one_cmd))\n"
   ]
  },
  {
   "cell_type": "markdown",
   "metadata": {},
   "source": [
    "Dados claramente desbalanceados \n",
    "\n",
    "https://medium.com/turing-talks/dados-desbalanceados-o-que-são-e-como-evitá-los-43df4f49732b"
   ]
  },
  {
   "cell_type": "code",
   "execution_count": 21,
   "metadata": {
    "trusted": false,
    "ExecuteTime": {
     "end_time": "2024-03-11T14:45:49.982170Z",
     "start_time": "2024-03-11T14:45:49.936492Z"
    }
   },
   "outputs": [
    {
     "name": "stdout",
     "output_type": "stream",
     "text": [
      "213859 213859\n",
      "'_ENV_=_STRING_'\n",
      "Proporção dos comandos maliciosos:  1.6164856283813165 %\n"
     ]
    }
   ],
   "source": [
    "# create dataset of one-command\n",
    "\n",
    "one_cmd_corpus = benign_one_cmd + gtfo_one_cmd\n",
    "one_cmd_labels = [0] * len(benign_one_cmd) + [1] * len(gtfo_one_cmd)\n",
    "\n",
    "print(len(one_cmd_corpus), len(one_cmd_labels))\n",
    "pprint(one_cmd_corpus[213815])\n",
    "\n",
    "propocao = (len (gtfo_one_cmd) / len(one_cmd_corpus))* 100 \n",
    "print (\"Proporção dos comandos maliciosos: \", propocao, \"%\")"
   ]
  },
  {
   "cell_type": "markdown",
   "metadata": {},
   "source": [
    "# Lidando com dados desbalanceados"
   ]
  },
  {
   "cell_type": "markdown",
   "metadata": {},
   "source": [
    "Função de aplicação de diversos algoritmos de balanceamento de dados em conjuntos desbalanceados:\n",
    "\n",
    "1. **Random UnderSampler (RUS):** Este algoritmo reduz a quantidade de exemplos da classe majoritária aleatoriamente, de modo a equilibrar a distribuição das classes no conjunto de dados. Ele remove aleatoriamente exemplos da classe majoritária até que o número de exemplos de cada classe seja mais equilibrado.\n",
    "\n",
    "2. **NearMiss (NM):** O NearMiss é uma técnica que visa selecionar exemplos da classe majoritária com base na distância de seus vizinhos da classe minoritária. Ele procura pelos exemplos da classe majoritária que estão mais próximos dos exemplos da classe minoritária e os mantém, reduzindo assim a discrepância entre as classes.\n",
    "\n",
    "3. **OneSidedSelection (OSS):** Este algoritmo utiliza um método de seleção baseado em vizinhos para remover exemplos da classe majoritária que estão longe dos exemplos da classe minoritária. Funciona de forma semelhante ao algoritmo de seleção KNN (K-Nearest Neighbors).\n",
    "\n",
    "4. **Random OverSampler (ROS):** Ao contrário do UnderSampling, o OverSampling aumenta a quantidade de exemplos da classe minoritária. O ROS gera exemplos sintéticos aleatórios da classe minoritária para equilibrar as classes.\n",
    "\n",
    "5. **SMOTE (Synthetic Minority Over-sampling Technique):** Similar ao ROS, o SMOTE também trabalha com OverSampling, mas em vez de gerar exemplos sintéticos aleatoriamente, cria novos exemplos sintéticos por meio da interpolação entre exemplos existentes da classe minoritária."
   ]
  },
  {
   "cell_type": "code",
   "execution_count": 22,
   "metadata": {
    "trusted": false,
    "ExecuteTime": {
     "end_time": "2024-03-11T14:46:23.923845Z",
     "start_time": "2024-03-11T14:46:23.897061Z"
    }
   },
   "outputs": [],
   "source": [
    "def criar_dataset_balanceado(X, Y):\n",
    "    '''\n",
    "    Função de aplicação de diversos algoritmos de balanceamento de dados em conjuntos desbalanceados:\n",
    "    '''\n",
    "    \n",
    "    # Random Undersampler\n",
    "    rus = RandomUnderSampler(random_state=32)\n",
    "    X_rus_res, y_rus_res = rus.fit_resample(X, Y)\n",
    "\n",
    "    # NearMiss\n",
    "    nm = NearMiss(version=1)\n",
    "    X_nm_res, y_nm_res = nm.fit_resample(X, Y)\n",
    "\n",
    "    # OneSidedSelection (Algoritmo tipo KNN)\n",
    "    oss = OneSidedSelection(random_state=32)\n",
    "    X_oss_res, y_oss_res = oss.fit_resample(X, Y)\n",
    "\n",
    "    # Random Oversampler\n",
    "    ros = RandomOverSampler(random_state=32)\n",
    "    X_ros_res, y_ros_res = ros.fit_resample(X, Y)\n",
    "\n",
    "    # SMOTE\n",
    "    smote = SMOTE(random_state=32)\n",
    "    X_smote_res, y_smote_res = smote.fit_resample(X, Y)\n",
    "    \n",
    "    return X_rus_res, y_rus_res, X_nm_res, y_nm_res, X_oss_res, y_oss_res, X_ros_res, y_ros_res, X_smote_res, y_smote_res"
   ]
  },
  {
   "cell_type": "markdown",
   "metadata": {},
   "source": [
    "Essa função `fit_predict` realiza uma tarefa de aprendizado supervisionado. Ela divide os dados fornecidos em conjuntos de treino e teste, treina um modelo de aprendizado de máquina usando os dados de treino e, em seguida, faz previsões nos dados de teste. Após as previsões, calcula três métricas de desempenho comuns: acurácia, F1-Score e Coeficiente de Correlação de Matthews (MCC). Essas métricas são então exibidas na tela e retornadas como uma tupla contendo os valores de acurácia, F1-Score e MCC, respectivamente. Este processo permite avaliar o desempenho do modelo usando diferentes métricas para entender sua eficácia na classificação dos dados de teste.\n",
    "\n",
    "Retorna os dados de Acurácia, F1-Score e MCC: \n",
    "\n",
    "```python\n",
    "Random Undersampler\n",
    "Accuracy:  0.842946490618485\n",
    "F1-Score:  0.8308383233532933\n",
    "MCC:  0.6900884943956258\n",
    "```"
   ]
  },
  {
   "cell_type": "code",
   "execution_count": 23,
   "metadata": {
    "trusted": false,
    "ExecuteTime": {
     "end_time": "2024-03-11T14:46:31.198184Z",
     "start_time": "2024-03-11T14:46:31.188092Z"
    }
   },
   "outputs": [],
   "source": [
    "def fit_predict(model, X, Y):\n",
    "    train_cmds, test_cmds, train_labels, test_labels = train_test_split(\n",
    "    X, Y, test_size=0.3, random_state=42\n",
    "    )\n",
    "    \n",
    "    # Treinando o modelo\n",
    "    model.fit(train_cmds, train_labels)\n",
    "    \n",
    "    # Prevendo os resultados\n",
    "    y_pred = model.predict(test_cmds)\n",
    "    \n",
    "    # Calculando as métricas\n",
    "    acc = accuracy_score(test_labels, y_pred)*100\n",
    "    f1 = f1_score(test_labels, y_pred)*100\n",
    "    mcc = matthews_corrcoef(test_labels, y_pred)*100\n",
    "    nota = (acc + 2*f1 + mcc)/4 # Nota final\n",
    "    \n",
    "    # Retornando as métricas\n",
    "    print (\"Accuracy: \", acc)\n",
    "    print (\"F1-Score: \", f1)\n",
    "    print (\"MCC: \", mcc)\n",
    "    print(\"Nota: \", nota)\n",
    "\n",
    "    return {\"Accuracy\": acc, \"F1-Score\": f1, \"MCC\": mcc, \"Nota\": nota}"
   ]
  },
  {
   "cell_type": "markdown",
   "metadata": {},
   "source": [
    "Por fim a automação das funções anteriores: "
   ]
  },
  {
   "cell_type": "code",
   "execution_count": 122,
   "metadata": {
    "ExecuteTime": {
     "end_time": "2023-12-26T13:26:23.045525Z",
     "start_time": "2023-12-26T13:26:23.037827Z"
    },
    "collapsed": false
   },
   "outputs": [],
   "source": [
    "import pandas as pd\n",
    "\n",
    "def treinar_modelo(nome_modelo,modelo, X_rus_res, y_rus_res, X_nm_res, y_nm_res, X_oss_res, y_oss_res, X_ros_res, y_ros_res, X_smote_res, y_smote_res):\n",
    "    resultados = []\n",
    "    tecnicas = [\"Random Undersampler\", \"NearMiss\", \"OneSidedSelection\", \"Random Oversampler\", \"SMOTE\"]\n",
    "\n",
    "    # Executando fit_predict para cada técnica e coletando resultados\n",
    "    for tecnica, X_res, y_res in zip(tecnicas, [X_rus_res, X_nm_res, X_oss_res, X_ros_res, X_smote_res], [y_rus_res, y_nm_res, y_oss_res, y_ros_res, y_smote_res]):\n",
    "        print('###################')\n",
    "        print(tecnica)\n",
    "        metricas = fit_predict(modelo, X_res, y_res)\n",
    "        metricas[\"Tecnica\"] = tecnica\n",
    "        metricas[\"Modelo\"] = nome_modelo\n",
    "        resultados.append(metricas)\n",
    "\n",
    "    # Convertendo a lista de resultados em um DataFrame\n",
    "    df_resultados = pd.DataFrame(resultados)\n",
    "\n",
    "    print('###################')\n",
    "    return df_resultados\n"
   ]
  },
  {
   "cell_type": "markdown",
   "metadata": {},
   "source": [
    "# 1 - Bag Of Words - Binário"
   ]
  },
  {
   "cell_type": "markdown",
   "metadata": {},
   "source": [
    "Não há necessidade de dividir o corpus do dataset antes do tratamento com BoW, pois a função `treinar_modelo()` realiza a divisão e treino de modelo."
   ]
  },
  {
   "cell_type": "code",
   "execution_count": 123,
   "metadata": {
    "ExecuteTime": {
     "end_time": "2023-12-26T13:26:23.327636Z",
     "start_time": "2023-12-26T13:26:23.106249Z"
    },
    "trusted": false
   },
   "outputs": [
    {
     "data": {
      "text/html": [
       "<style>#sk-container-id-4 {color: black;background-color: white;}#sk-container-id-4 pre{padding: 0;}#sk-container-id-4 div.sk-toggleable {background-color: white;}#sk-container-id-4 label.sk-toggleable__label {cursor: pointer;display: block;width: 100%;margin-bottom: 0;padding: 0.3em;box-sizing: border-box;text-align: center;}#sk-container-id-4 label.sk-toggleable__label-arrow:before {content: \"▸\";float: left;margin-right: 0.25em;color: #696969;}#sk-container-id-4 label.sk-toggleable__label-arrow:hover:before {color: black;}#sk-container-id-4 div.sk-estimator:hover label.sk-toggleable__label-arrow:before {color: black;}#sk-container-id-4 div.sk-toggleable__content {max-height: 0;max-width: 0;overflow: hidden;text-align: left;background-color: #f0f8ff;}#sk-container-id-4 div.sk-toggleable__content pre {margin: 0.2em;color: black;border-radius: 0.25em;background-color: #f0f8ff;}#sk-container-id-4 input.sk-toggleable__control:checked~div.sk-toggleable__content {max-height: 200px;max-width: 100%;overflow: auto;}#sk-container-id-4 input.sk-toggleable__control:checked~label.sk-toggleable__label-arrow:before {content: \"▾\";}#sk-container-id-4 div.sk-estimator input.sk-toggleable__control:checked~label.sk-toggleable__label {background-color: #d4ebff;}#sk-container-id-4 div.sk-label input.sk-toggleable__control:checked~label.sk-toggleable__label {background-color: #d4ebff;}#sk-container-id-4 input.sk-hidden--visually {border: 0;clip: rect(1px 1px 1px 1px);clip: rect(1px, 1px, 1px, 1px);height: 1px;margin: -1px;overflow: hidden;padding: 0;position: absolute;width: 1px;}#sk-container-id-4 div.sk-estimator {font-family: monospace;background-color: #f0f8ff;border: 1px dotted black;border-radius: 0.25em;box-sizing: border-box;margin-bottom: 0.5em;}#sk-container-id-4 div.sk-estimator:hover {background-color: #d4ebff;}#sk-container-id-4 div.sk-parallel-item::after {content: \"\";width: 100%;border-bottom: 1px solid gray;flex-grow: 1;}#sk-container-id-4 div.sk-label:hover label.sk-toggleable__label {background-color: #d4ebff;}#sk-container-id-4 div.sk-serial::before {content: \"\";position: absolute;border-left: 1px solid gray;box-sizing: border-box;top: 0;bottom: 0;left: 50%;z-index: 0;}#sk-container-id-4 div.sk-serial {display: flex;flex-direction: column;align-items: center;background-color: white;padding-right: 0.2em;padding-left: 0.2em;position: relative;}#sk-container-id-4 div.sk-item {position: relative;z-index: 1;}#sk-container-id-4 div.sk-parallel {display: flex;align-items: stretch;justify-content: center;background-color: white;position: relative;}#sk-container-id-4 div.sk-item::before, #sk-container-id-4 div.sk-parallel-item::before {content: \"\";position: absolute;border-left: 1px solid gray;box-sizing: border-box;top: 0;bottom: 0;left: 50%;z-index: -1;}#sk-container-id-4 div.sk-parallel-item {display: flex;flex-direction: column;z-index: 1;position: relative;background-color: white;}#sk-container-id-4 div.sk-parallel-item:first-child::after {align-self: flex-end;width: 50%;}#sk-container-id-4 div.sk-parallel-item:last-child::after {align-self: flex-start;width: 50%;}#sk-container-id-4 div.sk-parallel-item:only-child::after {width: 0;}#sk-container-id-4 div.sk-dashed-wrapped {border: 1px dashed gray;margin: 0 0.4em 0.5em 0.4em;box-sizing: border-box;padding-bottom: 0.4em;background-color: white;}#sk-container-id-4 div.sk-label label {font-family: monospace;font-weight: bold;display: inline-block;line-height: 1.2em;}#sk-container-id-4 div.sk-label-container {text-align: center;}#sk-container-id-4 div.sk-container {/* jupyter's `normalize.less` sets `[hidden] { display: none; }` but bootstrap.min.css set `[hidden] { display: none !important; }` so we also need the `!important` here to be able to override the default hidden behavior on the sphinx rendered scikit-learn.org. See: https://github.com/scikit-learn/scikit-learn/issues/21755 */display: inline-block !important;position: relative;}#sk-container-id-4 div.sk-text-repr-fallback {display: none;}</style><div id=\"sk-container-id-4\" class=\"sk-top-container\"><div class=\"sk-text-repr-fallback\"><pre>CountVectorizer(max_features=256)</pre><b>In a Jupyter environment, please rerun this cell to show the HTML representation or trust the notebook. <br />On GitHub, the HTML representation is unable to render, please try loading this page with nbviewer.org.</b></div><div class=\"sk-container\" hidden><div class=\"sk-item\"><div class=\"sk-estimator sk-toggleable\"><input class=\"sk-toggleable__control sk-hidden--visually\" id=\"sk-estimator-id-4\" type=\"checkbox\" checked><label for=\"sk-estimator-id-4\" class=\"sk-toggleable__label sk-toggleable__label-arrow\">CountVectorizer</label><div class=\"sk-toggleable__content\"><pre>CountVectorizer(max_features=256)</pre></div></div></div></div></div>"
      ],
      "text/plain": [
       "CountVectorizer(max_features=256)"
      ]
     },
     "execution_count": 123,
     "metadata": {},
     "output_type": "execute_result"
    }
   ],
   "source": [
    "from sklearn.feature_extraction.text import CountVectorizer\n",
    "\n",
    "# Criando o vetorizador de palavras com o máximo de 256 palavras\n",
    "\n",
    "vocab_size = 256\n",
    "vectorizer = CountVectorizer(max_features=vocab_size)\n",
    "vectorizer.fit(one_cmd_corpus)"
   ]
  },
  {
   "cell_type": "code",
   "execution_count": 124,
   "metadata": {
    "ExecuteTime": {
     "end_time": "2023-12-26T13:26:23.623228Z",
     "start_time": "2023-12-26T13:26:23.384025Z"
    },
    "trusted": false
   },
   "outputs": [],
   "source": [
    "# Criando o vetor de features\n",
    "\n",
    "X_train_encoded = vectorizer.transform(one_cmd_corpus)"
   ]
  },
  {
   "cell_type": "markdown",
   "metadata": {},
   "source": [
    "## Criação dos dados balanceados"
   ]
  },
  {
   "cell_type": "code",
   "execution_count": 125,
   "metadata": {
    "ExecuteTime": {
     "end_time": "2023-12-26T13:37:11.588255Z",
     "start_time": "2023-12-26T13:26:23.633967Z"
    },
    "trusted": false
   },
   "outputs": [
    {
     "name": "stdout",
     "output_type": "stream",
     "text": [
      "CPU times: user 9min 12s, sys: 53.2 s, total: 10min 5s\n",
      "Wall time: 10min 47s\n"
     ]
    }
   ],
   "source": [
    "%%time \n",
    "X_rus_res, y_rus_res, X_nm_res, y_nm_res, X_oss_res, y_oss_res, X_ros_res, y_ros_res, X_smote_res, y_smote_res = criar_dataset_balanceado(X_train_encoded, one_cmd_labels)"
   ]
  },
  {
   "cell_type": "markdown",
   "metadata": {},
   "source": [
    "## KNN\n",
    "\n",
    "Treinamento com KNN usando janela de 01 comando e BagOfWords. "
   ]
  },
  {
   "cell_type": "code",
   "execution_count": 126,
   "metadata": {
    "ExecuteTime": {
     "end_time": "2023-12-26T13:37:11.589990Z",
     "start_time": "2023-12-26T13:37:11.587733Z"
    },
    "trusted": false
   },
   "outputs": [],
   "source": [
    "# Classify\n",
    "from sklearn.neighbors import KNeighborsClassifier"
   ]
  },
  {
   "cell_type": "code",
   "execution_count": 127,
   "metadata": {
    "ExecuteTime": {
     "end_time": "2023-12-26T13:49:41.990606Z",
     "start_time": "2023-12-26T13:37:11.590566Z"
    },
    "trusted": false
   },
   "outputs": [
    {
     "name": "stdout",
     "output_type": "stream",
     "text": [
      "###################\n",
      "Random Undersampler\n",
      "Accuracy:  89.5421686746988\n",
      "F1-Score:  88.84318766066838\n",
      "MCC:  79.09448552186852\n",
      "Nota:  86.58075737947603\n",
      "###################\n",
      "NearMiss\n",
      "Accuracy:  89.6867469879518\n",
      "F1-Score:  88.62911795961742\n",
      "MCC:  79.70688022491014\n",
      "Nota:  86.66296578302419\n",
      "###################\n",
      "OneSidedSelection\n",
      "Accuracy:  98.85127341874747\n",
      "F1-Score:  59.88023952095808\n",
      "MCC:  59.73613403832566\n",
      "Nota:  69.58697162474732\n",
      "###################\n",
      "Random Oversampler\n",
      "Accuracy:  89.90351863880484\n",
      "F1-Score:  90.3763099876174\n",
      "MCC:  80.26522468883223\n",
      "Nota:  87.73034082571797\n",
      "###################\n",
      "SMOTE\n",
      "Accuracy:  91.21370067014148\n",
      "F1-Score:  90.68228020362561\n",
      "MCC:  82.8918318037954\n",
      "Nota:  88.86752322029703\n",
      "###################\n",
      "CPU times: user 17min 30s, sys: 3min 53s, total: 21min 23s\n",
      "Wall time: 12min 30s\n"
     ]
    }
   ],
   "source": [
    "%%time\n",
    "knn = KNeighborsClassifier(n_neighbors=5, n_jobs=-1)\n",
    "DF_KNN = treinar_modelo(\"KNN\", knn, X_rus_res, y_rus_res, X_nm_res, y_nm_res, X_oss_res, y_oss_res, X_ros_res, y_ros_res, X_smote_res, y_smote_res)"
   ]
  },
  {
   "cell_type": "code",
   "execution_count": 128,
   "metadata": {
    "ExecuteTime": {
     "end_time": "2023-12-26T13:49:41.997945Z",
     "start_time": "2023-12-26T13:49:41.989422Z"
    },
    "collapsed": false
   },
   "outputs": [
    {
     "data": {
      "text/html": [
       "<div>\n",
       "<style scoped>\n",
       "    .dataframe tbody tr th:only-of-type {\n",
       "        vertical-align: middle;\n",
       "    }\n",
       "\n",
       "    .dataframe tbody tr th {\n",
       "        vertical-align: top;\n",
       "    }\n",
       "\n",
       "    .dataframe thead th {\n",
       "        text-align: right;\n",
       "    }\n",
       "</style>\n",
       "<table border=\"1\" class=\"dataframe\">\n",
       "  <thead>\n",
       "    <tr style=\"text-align: right;\">\n",
       "      <th></th>\n",
       "      <th>Accuracy</th>\n",
       "      <th>F1-Score</th>\n",
       "      <th>MCC</th>\n",
       "      <th>Nota</th>\n",
       "      <th>Tecnica</th>\n",
       "      <th>Modelo</th>\n",
       "    </tr>\n",
       "  </thead>\n",
       "  <tbody>\n",
       "    <tr>\n",
       "      <th>0</th>\n",
       "      <td>89.542169</td>\n",
       "      <td>88.843188</td>\n",
       "      <td>79.094486</td>\n",
       "      <td>86.580757</td>\n",
       "      <td>Random Undersampler</td>\n",
       "      <td>KNN</td>\n",
       "    </tr>\n",
       "    <tr>\n",
       "      <th>1</th>\n",
       "      <td>89.686747</td>\n",
       "      <td>88.629118</td>\n",
       "      <td>79.706880</td>\n",
       "      <td>86.662966</td>\n",
       "      <td>NearMiss</td>\n",
       "      <td>KNN</td>\n",
       "    </tr>\n",
       "    <tr>\n",
       "      <th>2</th>\n",
       "      <td>98.851273</td>\n",
       "      <td>59.880240</td>\n",
       "      <td>59.736134</td>\n",
       "      <td>69.586972</td>\n",
       "      <td>OneSidedSelection</td>\n",
       "      <td>KNN</td>\n",
       "    </tr>\n",
       "    <tr>\n",
       "      <th>3</th>\n",
       "      <td>89.903519</td>\n",
       "      <td>90.376310</td>\n",
       "      <td>80.265225</td>\n",
       "      <td>87.730341</td>\n",
       "      <td>Random Oversampler</td>\n",
       "      <td>KNN</td>\n",
       "    </tr>\n",
       "    <tr>\n",
       "      <th>4</th>\n",
       "      <td>91.213701</td>\n",
       "      <td>90.682280</td>\n",
       "      <td>82.891832</td>\n",
       "      <td>88.867523</td>\n",
       "      <td>SMOTE</td>\n",
       "      <td>KNN</td>\n",
       "    </tr>\n",
       "  </tbody>\n",
       "</table>\n",
       "</div>"
      ],
      "text/plain": [
       "    Accuracy   F1-Score        MCC       Nota              Tecnica Modelo\n",
       "0  89.542169  88.843188  79.094486  86.580757  Random Undersampler    KNN\n",
       "1  89.686747  88.629118  79.706880  86.662966             NearMiss    KNN\n",
       "2  98.851273  59.880240  59.736134  69.586972    OneSidedSelection    KNN\n",
       "3  89.903519  90.376310  80.265225  87.730341   Random Oversampler    KNN\n",
       "4  91.213701  90.682280  82.891832  88.867523                SMOTE    KNN"
      ]
     },
     "execution_count": 128,
     "metadata": {},
     "output_type": "execute_result"
    }
   ],
   "source": [
    "DF_KNN"
   ]
  },
  {
   "cell_type": "markdown",
   "metadata": {},
   "source": [
    "## Árvore de decisão "
   ]
  },
  {
   "cell_type": "code",
   "execution_count": 129,
   "metadata": {
    "ExecuteTime": {
     "end_time": "2023-12-26T13:49:43.560021Z",
     "start_time": "2023-12-26T13:49:41.995045Z"
    },
    "trusted": false
   },
   "outputs": [
    {
     "name": "stdout",
     "output_type": "stream",
     "text": [
      "###################\n",
      "Random Undersampler\n",
      "Accuracy:  90.45783132530121\n",
      "F1-Score:  89.74093264248705\n",
      "MCC:  80.98510122726414\n",
      "Nota:  87.73119945938485\n",
      "###################\n",
      "NearMiss\n",
      "Accuracy:  89.9277108433735\n",
      "F1-Score:  89.12024986985946\n",
      "MCC:  79.9567510924247\n",
      "Nota:  87.03124041887929\n",
      "###################\n",
      "OneSidedSelection\n",
      "Accuracy:  98.96349636834067\n",
      "F1-Score:  61.31471785922048\n",
      "MCC:  62.030525862432675\n",
      "Nota:  70.90586448730357\n",
      "###################\n",
      "Random Oversampler\n",
      "Accuracy:  91.98444257853963\n",
      "F1-Score:  91.63200330783543\n",
      "MCC:  84.21197772751148\n",
      "Nota:  89.86510673043048\n",
      "###################\n",
      "SMOTE\n",
      "Accuracy:  91.9384990732086\n",
      "F1-Score:  91.53940159784517\n",
      "MCC:  84.18921569202259\n",
      "Nota:  89.80162949023038\n",
      "###################\n",
      "CPU times: user 1.53 s, sys: 21.8 ms, total: 1.55 s\n",
      "Wall time: 1.56 s\n"
     ]
    }
   ],
   "source": [
    "%%time\n",
    "DT = DecisionTreeClassifier(criterion='entropy',random_state=0)\n",
    "DF_DT = treinar_modelo(\"DT\", DT,X_rus_res, y_rus_res, X_nm_res, y_nm_res, X_oss_res, y_oss_res, X_ros_res, y_ros_res, X_smote_res, y_smote_res)"
   ]
  },
  {
   "cell_type": "code",
   "execution_count": 130,
   "metadata": {
    "ExecuteTime": {
     "end_time": "2023-12-26T13:49:43.564432Z",
     "start_time": "2023-12-26T13:49:43.559818Z"
    },
    "collapsed": false
   },
   "outputs": [
    {
     "data": {
      "text/html": [
       "<div>\n",
       "<style scoped>\n",
       "    .dataframe tbody tr th:only-of-type {\n",
       "        vertical-align: middle;\n",
       "    }\n",
       "\n",
       "    .dataframe tbody tr th {\n",
       "        vertical-align: top;\n",
       "    }\n",
       "\n",
       "    .dataframe thead th {\n",
       "        text-align: right;\n",
       "    }\n",
       "</style>\n",
       "<table border=\"1\" class=\"dataframe\">\n",
       "  <thead>\n",
       "    <tr style=\"text-align: right;\">\n",
       "      <th></th>\n",
       "      <th>Accuracy</th>\n",
       "      <th>F1-Score</th>\n",
       "      <th>MCC</th>\n",
       "      <th>Nota</th>\n",
       "      <th>Tecnica</th>\n",
       "      <th>Modelo</th>\n",
       "    </tr>\n",
       "  </thead>\n",
       "  <tbody>\n",
       "    <tr>\n",
       "      <th>0</th>\n",
       "      <td>90.457831</td>\n",
       "      <td>89.740933</td>\n",
       "      <td>80.985101</td>\n",
       "      <td>87.731199</td>\n",
       "      <td>Random Undersampler</td>\n",
       "      <td>DT</td>\n",
       "    </tr>\n",
       "    <tr>\n",
       "      <th>1</th>\n",
       "      <td>89.927711</td>\n",
       "      <td>89.120250</td>\n",
       "      <td>79.956751</td>\n",
       "      <td>87.031240</td>\n",
       "      <td>NearMiss</td>\n",
       "      <td>DT</td>\n",
       "    </tr>\n",
       "    <tr>\n",
       "      <th>2</th>\n",
       "      <td>98.963496</td>\n",
       "      <td>61.314718</td>\n",
       "      <td>62.030526</td>\n",
       "      <td>70.905864</td>\n",
       "      <td>OneSidedSelection</td>\n",
       "      <td>DT</td>\n",
       "    </tr>\n",
       "    <tr>\n",
       "      <th>3</th>\n",
       "      <td>91.984443</td>\n",
       "      <td>91.632003</td>\n",
       "      <td>84.211978</td>\n",
       "      <td>89.865107</td>\n",
       "      <td>Random Oversampler</td>\n",
       "      <td>DT</td>\n",
       "    </tr>\n",
       "    <tr>\n",
       "      <th>4</th>\n",
       "      <td>91.938499</td>\n",
       "      <td>91.539402</td>\n",
       "      <td>84.189216</td>\n",
       "      <td>89.801629</td>\n",
       "      <td>SMOTE</td>\n",
       "      <td>DT</td>\n",
       "    </tr>\n",
       "  </tbody>\n",
       "</table>\n",
       "</div>"
      ],
      "text/plain": [
       "    Accuracy   F1-Score        MCC       Nota              Tecnica Modelo\n",
       "0  90.457831  89.740933  80.985101  87.731199  Random Undersampler     DT\n",
       "1  89.927711  89.120250  79.956751  87.031240             NearMiss     DT\n",
       "2  98.963496  61.314718  62.030526  70.905864    OneSidedSelection     DT\n",
       "3  91.984443  91.632003  84.211978  89.865107   Random Oversampler     DT\n",
       "4  91.938499  91.539402  84.189216  89.801629                SMOTE     DT"
      ]
     },
     "execution_count": 130,
     "metadata": {},
     "output_type": "execute_result"
    }
   ],
   "source": [
    "DF_DT"
   ]
  },
  {
   "cell_type": "markdown",
   "metadata": {},
   "source": [
    "## Random Forest"
   ]
  },
  {
   "cell_type": "code",
   "execution_count": 131,
   "metadata": {
    "ExecuteTime": {
     "end_time": "2023-12-26T13:50:25.957057Z",
     "start_time": "2023-12-26T13:49:43.566727Z"
    },
    "trusted": false
   },
   "outputs": [
    {
     "name": "stdout",
     "output_type": "stream",
     "text": [
      "###################\n",
      "Random Undersampler\n",
      "Accuracy:  91.27710843373494\n",
      "F1-Score:  90.61689994815968\n",
      "MCC:  82.63737618010549\n",
      "Nota:  88.78707112753995\n",
      "###################\n",
      "NearMiss\n",
      "Accuracy:  90.02409638554218\n",
      "F1-Score:  89.23556942277692\n",
      "MCC:  80.14178484764636\n",
      "Nota:  87.15925501968559\n",
      "###################\n",
      "OneSidedSelection\n",
      "Accuracy:  98.97596558496213\n",
      "F1-Score:  61.601402688486274\n",
      "MCC:  62.40377659845261\n",
      "Nota:  71.14563689009682\n",
      "###################\n",
      "Random Oversampler\n",
      "Accuracy:  92.02088053104355\n",
      "F1-Score:  91.6668734850553\n",
      "MCC:  84.28981088310674\n",
      "Nota:  89.91110959606522\n",
      "###################\n",
      "SMOTE\n",
      "Accuracy:  91.97256063750574\n",
      "F1-Score:  91.57255717255718\n",
      "MCC:  84.26192197433515\n",
      "Nota:  89.84489923923881\n",
      "###################\n",
      "CPU times: user 41.3 s, sys: 552 ms, total: 41.8 s\n",
      "Wall time: 42.4 s\n"
     ]
    }
   ],
   "source": [
    "%%time\n",
    "RF = RandomForestClassifier(n_estimators=100,\n",
    "                            random_state=0,\n",
    "                            criterion='gini')\n",
    "DF_RF= treinar_modelo(\"RF\",RF,X_rus_res, y_rus_res, X_nm_res, y_nm_res, X_oss_res, y_oss_res, X_ros_res, y_ros_res, X_smote_res, y_smote_res)"
   ]
  },
  {
   "cell_type": "code",
   "execution_count": 132,
   "metadata": {
    "ExecuteTime": {
     "end_time": "2023-12-26T13:50:25.962619Z",
     "start_time": "2023-12-26T13:50:25.956676Z"
    },
    "collapsed": false
   },
   "outputs": [
    {
     "data": {
      "text/html": [
       "<div>\n",
       "<style scoped>\n",
       "    .dataframe tbody tr th:only-of-type {\n",
       "        vertical-align: middle;\n",
       "    }\n",
       "\n",
       "    .dataframe tbody tr th {\n",
       "        vertical-align: top;\n",
       "    }\n",
       "\n",
       "    .dataframe thead th {\n",
       "        text-align: right;\n",
       "    }\n",
       "</style>\n",
       "<table border=\"1\" class=\"dataframe\">\n",
       "  <thead>\n",
       "    <tr style=\"text-align: right;\">\n",
       "      <th></th>\n",
       "      <th>Accuracy</th>\n",
       "      <th>F1-Score</th>\n",
       "      <th>MCC</th>\n",
       "      <th>Nota</th>\n",
       "      <th>Tecnica</th>\n",
       "      <th>Modelo</th>\n",
       "    </tr>\n",
       "  </thead>\n",
       "  <tbody>\n",
       "    <tr>\n",
       "      <th>0</th>\n",
       "      <td>91.277108</td>\n",
       "      <td>90.616900</td>\n",
       "      <td>82.637376</td>\n",
       "      <td>88.787071</td>\n",
       "      <td>Random Undersampler</td>\n",
       "      <td>RF</td>\n",
       "    </tr>\n",
       "    <tr>\n",
       "      <th>1</th>\n",
       "      <td>90.024096</td>\n",
       "      <td>89.235569</td>\n",
       "      <td>80.141785</td>\n",
       "      <td>87.159255</td>\n",
       "      <td>NearMiss</td>\n",
       "      <td>RF</td>\n",
       "    </tr>\n",
       "    <tr>\n",
       "      <th>2</th>\n",
       "      <td>98.975966</td>\n",
       "      <td>61.601403</td>\n",
       "      <td>62.403777</td>\n",
       "      <td>71.145637</td>\n",
       "      <td>OneSidedSelection</td>\n",
       "      <td>RF</td>\n",
       "    </tr>\n",
       "    <tr>\n",
       "      <th>3</th>\n",
       "      <td>92.020881</td>\n",
       "      <td>91.666873</td>\n",
       "      <td>84.289811</td>\n",
       "      <td>89.911110</td>\n",
       "      <td>Random Oversampler</td>\n",
       "      <td>RF</td>\n",
       "    </tr>\n",
       "    <tr>\n",
       "      <th>4</th>\n",
       "      <td>91.972561</td>\n",
       "      <td>91.572557</td>\n",
       "      <td>84.261922</td>\n",
       "      <td>89.844899</td>\n",
       "      <td>SMOTE</td>\n",
       "      <td>RF</td>\n",
       "    </tr>\n",
       "  </tbody>\n",
       "</table>\n",
       "</div>"
      ],
      "text/plain": [
       "    Accuracy   F1-Score        MCC       Nota              Tecnica Modelo\n",
       "0  91.277108  90.616900  82.637376  88.787071  Random Undersampler     RF\n",
       "1  90.024096  89.235569  80.141785  87.159255             NearMiss     RF\n",
       "2  98.975966  61.601403  62.403777  71.145637    OneSidedSelection     RF\n",
       "3  92.020881  91.666873  84.289811  89.911110   Random Oversampler     RF\n",
       "4  91.972561  91.572557  84.261922  89.844899                SMOTE     RF"
      ]
     },
     "execution_count": 132,
     "metadata": {},
     "output_type": "execute_result"
    }
   ],
   "source": [
    "DF_RF"
   ]
  },
  {
   "cell_type": "markdown",
   "metadata": {},
   "source": [
    "## Regressão Logística"
   ]
  },
  {
   "cell_type": "code",
   "execution_count": 133,
   "metadata": {
    "ExecuteTime": {
     "end_time": "2023-12-26T13:50:31.972514Z",
     "start_time": "2023-12-26T13:50:25.960054Z"
    },
    "trusted": false
   },
   "outputs": [
    {
     "name": "stdout",
     "output_type": "stream",
     "text": [
      "###################\n",
      "Random Undersampler\n",
      "Accuracy:  90.3132530120482\n",
      "F1-Score:  89.39313984168865\n",
      "MCC:  80.88059280516238\n",
      "Nota:  87.49503137514698\n",
      "###################\n",
      "NearMiss\n",
      "Accuracy:  89.6867469879518\n",
      "F1-Score:  88.90041493775934\n",
      "MCC:  79.44178531185386\n",
      "Nota:  86.7323405438311\n",
      "###################\n",
      "OneSidedSelection\n",
      "Accuracy:  98.57383334891986\n",
      "F1-Score:  32.47232472324724\n",
      "MCC:  37.3961810934189\n",
      "Nota:  50.22866597220831\n",
      "###################\n",
      "Random Oversampler\n",
      "Accuracy:  89.39655582135899\n",
      "F1-Score:  88.86541340875061\n",
      "MCC:  79.09162545161543\n",
      "Nota:  86.55475202261891\n",
      "###################\n",
      "SMOTE\n",
      "Accuracy:  90.03659637838437\n",
      "F1-Score:  90.68213470827037\n",
      "MCC:  80.95199791228976\n",
      "Nota:  88.08821592680371\n",
      "###################\n",
      "CPU times: user 5.79 s, sys: 93.6 ms, total: 5.88 s\n",
      "Wall time: 6.01 s\n"
     ]
    }
   ],
   "source": [
    "%%time\n",
    "RL = LogisticRegression(random_state=1, max_iter=500)\n",
    "DF_RL=treinar_modelo(\"RL\",RL,X_rus_res, y_rus_res, X_nm_res, y_nm_res, X_oss_res, y_oss_res, X_ros_res, y_ros_res, X_smote_res, y_smote_res)"
   ]
  },
  {
   "cell_type": "code",
   "execution_count": 134,
   "metadata": {
    "ExecuteTime": {
     "end_time": "2023-12-26T13:50:31.975839Z",
     "start_time": "2023-12-26T13:50:31.970203Z"
    },
    "collapsed": false
   },
   "outputs": [
    {
     "data": {
      "text/html": [
       "<div>\n",
       "<style scoped>\n",
       "    .dataframe tbody tr th:only-of-type {\n",
       "        vertical-align: middle;\n",
       "    }\n",
       "\n",
       "    .dataframe tbody tr th {\n",
       "        vertical-align: top;\n",
       "    }\n",
       "\n",
       "    .dataframe thead th {\n",
       "        text-align: right;\n",
       "    }\n",
       "</style>\n",
       "<table border=\"1\" class=\"dataframe\">\n",
       "  <thead>\n",
       "    <tr style=\"text-align: right;\">\n",
       "      <th></th>\n",
       "      <th>Accuracy</th>\n",
       "      <th>F1-Score</th>\n",
       "      <th>MCC</th>\n",
       "      <th>Nota</th>\n",
       "      <th>Tecnica</th>\n",
       "      <th>Modelo</th>\n",
       "    </tr>\n",
       "  </thead>\n",
       "  <tbody>\n",
       "    <tr>\n",
       "      <th>0</th>\n",
       "      <td>90.313253</td>\n",
       "      <td>89.393140</td>\n",
       "      <td>80.880593</td>\n",
       "      <td>87.495031</td>\n",
       "      <td>Random Undersampler</td>\n",
       "      <td>RL</td>\n",
       "    </tr>\n",
       "    <tr>\n",
       "      <th>1</th>\n",
       "      <td>89.686747</td>\n",
       "      <td>88.900415</td>\n",
       "      <td>79.441785</td>\n",
       "      <td>86.732341</td>\n",
       "      <td>NearMiss</td>\n",
       "      <td>RL</td>\n",
       "    </tr>\n",
       "    <tr>\n",
       "      <th>2</th>\n",
       "      <td>98.573833</td>\n",
       "      <td>32.472325</td>\n",
       "      <td>37.396181</td>\n",
       "      <td>50.228666</td>\n",
       "      <td>OneSidedSelection</td>\n",
       "      <td>RL</td>\n",
       "    </tr>\n",
       "    <tr>\n",
       "      <th>3</th>\n",
       "      <td>89.396556</td>\n",
       "      <td>88.865413</td>\n",
       "      <td>79.091625</td>\n",
       "      <td>86.554752</td>\n",
       "      <td>Random Oversampler</td>\n",
       "      <td>RL</td>\n",
       "    </tr>\n",
       "    <tr>\n",
       "      <th>4</th>\n",
       "      <td>90.036596</td>\n",
       "      <td>90.682135</td>\n",
       "      <td>80.951998</td>\n",
       "      <td>88.088216</td>\n",
       "      <td>SMOTE</td>\n",
       "      <td>RL</td>\n",
       "    </tr>\n",
       "  </tbody>\n",
       "</table>\n",
       "</div>"
      ],
      "text/plain": [
       "    Accuracy   F1-Score        MCC       Nota              Tecnica Modelo\n",
       "0  90.313253  89.393140  80.880593  87.495031  Random Undersampler     RL\n",
       "1  89.686747  88.900415  79.441785  86.732341             NearMiss     RL\n",
       "2  98.573833  32.472325  37.396181  50.228666    OneSidedSelection     RL\n",
       "3  89.396556  88.865413  79.091625  86.554752   Random Oversampler     RL\n",
       "4  90.036596  90.682135  80.951998  88.088216                SMOTE     RL"
      ]
     },
     "execution_count": 134,
     "metadata": {},
     "output_type": "execute_result"
    }
   ],
   "source": [
    "DF_RL"
   ]
  },
  {
   "cell_type": "markdown",
   "metadata": {},
   "source": [
    "## SVM"
   ]
  },
  {
   "cell_type": "code",
   "execution_count": 135,
   "metadata": {
    "ExecuteTime": {
     "end_time": "2023-12-26T14:38:18.364044Z",
     "start_time": "2023-12-26T13:50:31.974436Z"
    },
    "trusted": false
   },
   "outputs": [
    {
     "name": "stdout",
     "output_type": "stream",
     "text": [
      "###################\n",
      "Random Undersampler\n",
      "Accuracy:  89.34939759036145\n",
      "F1-Score:  88.3989501312336\n",
      "MCC:  78.87331424732366\n",
      "Nota:  86.25515302503808\n",
      "###################\n",
      "NearMiss\n",
      "Accuracy:  89.59036144578313\n",
      "F1-Score:  88.79668049792532\n",
      "MCC:  79.24785457923046\n",
      "Nota:  86.60789425521607\n",
      "###################\n",
      "OneSidedSelection\n",
      "Accuracy:  98.56448143645376\n",
      "F1-Score:  25.182778229082047\n",
      "MCC:  33.47184538335076\n",
      "Nota:  45.60047081949215\n",
      "###################\n",
      "Random Oversampler\n",
      "Accuracy:  89.0044517672407\n",
      "F1-Score:  88.44607586086349\n",
      "MCC:  78.31274185729549\n",
      "Nota:  86.05233633656579\n",
      "###################\n",
      "SMOTE\n",
      "Accuracy:  89.78073858145467\n",
      "F1-Score:  90.46115625485224\n",
      "MCC:  80.48527194533833\n",
      "Nota:  87.79708075912438\n",
      "###################\n",
      "CPU times: user 34min 36s, sys: 20.3 s, total: 34min 56s\n",
      "Wall time: 47min 46s\n"
     ]
    }
   ],
   "source": [
    "%%time\n",
    "SVM_bow = SVC(kernel=\"linear\",\n",
    "                 random_state=1,\n",
    "                 C=2.0)\n",
    "DF_SVC=treinar_modelo(\"SVC\",SVM_bow,X_rus_res, y_rus_res, X_nm_res, y_nm_res, X_oss_res, y_oss_res, X_ros_res, y_ros_res, X_smote_res, y_smote_res)"
   ]
  },
  {
   "cell_type": "markdown",
   "metadata": {},
   "source": [
    "## Rede Neural"
   ]
  },
  {
   "cell_type": "code",
   "execution_count": null,
   "metadata": {
    "ExecuteTime": {
     "start_time": "2023-12-26T14:38:18.385803Z"
    },
    "is_executing": true,
    "trusted": false
   },
   "outputs": [
    {
     "name": "stdout",
     "output_type": "stream",
     "text": [
      "###################\n",
      "Random Undersampler\n",
      "Accuracy:  88.57831325301206\n",
      "F1-Score:  89.10344827586208\n",
      "MCC:  78.49790243731263\n",
      "Nota:  86.32077806051221\n",
      "###################\n",
      "NearMiss\n",
      "Accuracy:  90.8433734939759\n",
      "F1-Score:  89.96832101372758\n",
      "MCC:  81.95814882083982\n",
      "Nota:  88.18454108556772\n",
      "###################\n",
      "OneSidedSelection\n"
     ]
    }
   ],
   "source": [
    "%%time \n",
    "rede_neural = MLPClassifier(random_state=1,\n",
    "                                 tol=0.00000000001,\n",
    "                                 max_iter=1500,\n",
    "                                 hidden_layer_sizes=(64,64,64),\n",
    "                                 activation='tanh',\n",
    "                                 solver='adam',\n",
    "                                 verbose=False)\n",
    "DF_NN=treinar_modelo(\"NN\",rede_neural,X_rus_res, y_rus_res, X_nm_res, y_nm_res, X_oss_res, y_oss_res, X_ros_res, y_ros_res, X_smote_res, y_smote_res)"
   ]
  },
  {
   "cell_type": "markdown",
   "metadata": {
    "collapsed": false
   },
   "source": [
    "# Concatenando os resultados"
   ]
  },
  {
   "cell_type": "code",
   "execution_count": null,
   "metadata": {
    "is_executing": true,
    "trusted": false
   },
   "outputs": [],
   "source": [
    "df_resultados_concatenados = pd.concat([DF_KNN, DF_DT, DF_RF, DF_RL, DF_SVC, DF_NN])\n",
    "df_resultados_concatenados['Metodo'] = 'BoW'\n",
    "df_resultados_concatenados.to_csv(\"resultados_concatenados_com_BOW.csv\", index=False)\n"
   ]
  },
  {
   "cell_type": "code",
   "execution_count": null,
   "metadata": {
    "collapsed": false,
    "is_executing": true
   },
   "outputs": [],
   "source": [
    "df_resultados_concatenados"
   ]
  },
  {
   "cell_type": "code",
   "execution_count": null,
   "metadata": {
    "collapsed": false,
    "is_executing": true
   },
   "outputs": [],
   "source": []
  }
 ],
 "metadata": {
  "kernelspec": {
   "display_name": "Python 3",
   "language": "python",
   "name": "python3"
  },
  "language_info": {
   "codemirror_mode": {
    "name": "ipython",
    "version": 3
   },
   "file_extension": ".py",
   "mimetype": "text/x-python",
   "name": "python",
   "nbconvert_exporter": "python",
   "pygments_lexer": "ipython3",
   "version": "3.11.5"
  }
 },
 "nbformat": 4,
 "nbformat_minor": 2
}
